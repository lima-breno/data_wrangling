{
  "nbformat": 4,
  "nbformat_minor": 0,
  "metadata": {
    "colab": {
      "provenance": [],
      "authorship_tag": "ABX9TyN6dA9w6jjR/Q0Wn2mke4ED",
      "include_colab_link": true
    },
    "kernelspec": {
      "name": "python3",
      "display_name": "Python 3"
    },
    "language_info": {
      "name": "python"
    }
  },
  "cells": [
    {
      "cell_type": "markdown",
      "metadata": {
        "id": "view-in-github",
        "colab_type": "text"
      },
      "source": [
        "<a href=\"https://colab.research.google.com/github/lima-breno/data_wrangling/blob/main/DW_05_Curso_NumPy.ipynb\" target=\"_parent\"><img src=\"https://colab.research.google.com/assets/colab-badge.svg\" alt=\"Open In Colab\"/></a>"
      ]
    },
    {
      "cell_type": "markdown",
      "source": [
        "# **Primeira forma de upar os dados para o colab**\n",
        "(qd vc tem um .csv salvo)\n",
        "\n",
        "OBS: Qd for abrir o código novamente, precisa upar o arquivo .csv\n",
        "\n",
        "(https://drive.google.com/file/d/1FuU8xgYnOf-pcJlYFI5pw44xaAldItGr/view?usp=share_link)"
      ],
      "metadata": {
        "id": "X4nL08SXZml3"
      }
    },
    {
      "cell_type": "code",
      "execution_count": null,
      "metadata": {
        "colab": {
          "base_uri": "https://localhost:8080/",
          "height": 385
        },
        "id": "4gHfdVaiS7Bj",
        "outputId": "7163d735-0b3d-477f-eb59-e2ab85c70a9a"
      },
      "outputs": [
        {
          "output_type": "error",
          "ename": "ValueError",
          "evalue": "could not convert string '' to float64 at row 0, column 1.",
          "traceback": [
            "\u001b[0;31m---------------------------------------------------------------------------\u001b[0m",
            "\u001b[0;31mValueError\u001b[0m                                Traceback (most recent call last)",
            "\u001b[0;32m<ipython-input-4-1865b1c7e87a>\u001b[0m in \u001b[0;36m<cell line: 3>\u001b[0;34m()\u001b[0m\n\u001b[1;32m      1\u001b[0m \u001b[0;31m#importando a biblioteca numpy (dando um apelido a ela)\u001b[0m\u001b[0;34m\u001b[0m\u001b[0;34m\u001b[0m\u001b[0m\n\u001b[1;32m      2\u001b[0m \u001b[0;32mimport\u001b[0m \u001b[0mnumpy\u001b[0m \u001b[0;32mas\u001b[0m \u001b[0mnp\u001b[0m\u001b[0;34m\u001b[0m\u001b[0;34m\u001b[0m\u001b[0m\n\u001b[0;32m----> 3\u001b[0;31m \u001b[0mnp\u001b[0m\u001b[0;34m.\u001b[0m\u001b[0mloadtxt\u001b[0m\u001b[0;34m(\u001b[0m\u001b[0;34m'apples_ts.csv'\u001b[0m\u001b[0;34m,\u001b[0m \u001b[0mdelimiter\u001b[0m\u001b[0;34m=\u001b[0m\u001b[0;34m','\u001b[0m\u001b[0;34m)\u001b[0m\u001b[0;34m\u001b[0m\u001b[0;34m\u001b[0m\u001b[0m\n\u001b[0m",
            "\u001b[0;32m/usr/local/lib/python3.10/dist-packages/numpy/lib/npyio.py\u001b[0m in \u001b[0;36mloadtxt\u001b[0;34m(fname, dtype, comments, delimiter, converters, skiprows, usecols, unpack, ndmin, encoding, max_rows, quotechar, like)\u001b[0m\n\u001b[1;32m   1336\u001b[0m         \u001b[0mdelimiter\u001b[0m \u001b[0;34m=\u001b[0m \u001b[0mdelimiter\u001b[0m\u001b[0;34m.\u001b[0m\u001b[0mdecode\u001b[0m\u001b[0;34m(\u001b[0m\u001b[0;34m'latin1'\u001b[0m\u001b[0;34m)\u001b[0m\u001b[0;34m\u001b[0m\u001b[0;34m\u001b[0m\u001b[0m\n\u001b[1;32m   1337\u001b[0m \u001b[0;34m\u001b[0m\u001b[0m\n\u001b[0;32m-> 1338\u001b[0;31m     arr = _read(fname, dtype=dtype, comment=comment, delimiter=delimiter,\n\u001b[0m\u001b[1;32m   1339\u001b[0m                 \u001b[0mconverters\u001b[0m\u001b[0;34m=\u001b[0m\u001b[0mconverters\u001b[0m\u001b[0;34m,\u001b[0m \u001b[0mskiplines\u001b[0m\u001b[0;34m=\u001b[0m\u001b[0mskiprows\u001b[0m\u001b[0;34m,\u001b[0m \u001b[0musecols\u001b[0m\u001b[0;34m=\u001b[0m\u001b[0musecols\u001b[0m\u001b[0;34m,\u001b[0m\u001b[0;34m\u001b[0m\u001b[0;34m\u001b[0m\u001b[0m\n\u001b[1;32m   1340\u001b[0m                 \u001b[0munpack\u001b[0m\u001b[0;34m=\u001b[0m\u001b[0munpack\u001b[0m\u001b[0;34m,\u001b[0m \u001b[0mndmin\u001b[0m\u001b[0;34m=\u001b[0m\u001b[0mndmin\u001b[0m\u001b[0;34m,\u001b[0m \u001b[0mencoding\u001b[0m\u001b[0;34m=\u001b[0m\u001b[0mencoding\u001b[0m\u001b[0;34m,\u001b[0m\u001b[0;34m\u001b[0m\u001b[0;34m\u001b[0m\u001b[0m\n",
            "\u001b[0;32m/usr/local/lib/python3.10/dist-packages/numpy/lib/npyio.py\u001b[0m in \u001b[0;36m_read\u001b[0;34m(fname, delimiter, comment, quote, imaginary_unit, usecols, skiplines, max_rows, converters, ndmin, unpack, dtype, encoding)\u001b[0m\n\u001b[1;32m    997\u001b[0m \u001b[0;34m\u001b[0m\u001b[0m\n\u001b[1;32m    998\u001b[0m         \u001b[0;32mif\u001b[0m \u001b[0mread_dtype_via_object_chunks\u001b[0m \u001b[0;32mis\u001b[0m \u001b[0;32mNone\u001b[0m\u001b[0;34m:\u001b[0m\u001b[0;34m\u001b[0m\u001b[0;34m\u001b[0m\u001b[0m\n\u001b[0;32m--> 999\u001b[0;31m             arr = _load_from_filelike(\n\u001b[0m\u001b[1;32m   1000\u001b[0m                 \u001b[0mdata\u001b[0m\u001b[0;34m,\u001b[0m \u001b[0mdelimiter\u001b[0m\u001b[0;34m=\u001b[0m\u001b[0mdelimiter\u001b[0m\u001b[0;34m,\u001b[0m \u001b[0mcomment\u001b[0m\u001b[0;34m=\u001b[0m\u001b[0mcomment\u001b[0m\u001b[0;34m,\u001b[0m \u001b[0mquote\u001b[0m\u001b[0;34m=\u001b[0m\u001b[0mquote\u001b[0m\u001b[0;34m,\u001b[0m\u001b[0;34m\u001b[0m\u001b[0;34m\u001b[0m\u001b[0m\n\u001b[1;32m   1001\u001b[0m                 \u001b[0mimaginary_unit\u001b[0m\u001b[0;34m=\u001b[0m\u001b[0mimaginary_unit\u001b[0m\u001b[0;34m,\u001b[0m\u001b[0;34m\u001b[0m\u001b[0;34m\u001b[0m\u001b[0m\n",
            "\u001b[0;31mValueError\u001b[0m: could not convert string '' to float64 at row 0, column 1."
          ]
        }
      ],
      "source": [
        "#importando a biblioteca numpy (dando um apelido a ela)\n",
        "import numpy as np\n",
        "np.loadtxt('apples_ts.csv', delimiter=',')"
      ]
    },
    {
      "cell_type": "code",
      "source": [
        "# O erro ocorreu pois o arquivo que está sendo upado tem a primeira coluna as cidades (nao é um numero)\n",
        "#Para poder passar os dados sem considerar a primeira coluna, é necessário fazer um código que excuta eessa coluna\n",
        "# Primeiro preciso criar uma sequencia de valores relacionados as colunas que quero -> coluna B '1' até a 87+1 e o incremento de 1 a 1\n",
        "np.arange(1,88,1)"
      ],
      "metadata": {
        "colab": {
          "base_uri": "https://localhost:8080/"
        },
        "id": "YRfrIorKUM4D",
        "outputId": "c8308292-3af5-4c47-fac6-11a19d28154b"
      },
      "execution_count": null,
      "outputs": [
        {
          "output_type": "execute_result",
          "data": {
            "text/plain": [
              "array([ 1,  2,  3,  4,  5,  6,  7,  8,  9, 10, 11, 12, 13, 14, 15, 16, 17,\n",
              "       18, 19, 20, 21, 22, 23, 24, 25, 26, 27, 28, 29, 30, 31, 32, 33, 34,\n",
              "       35, 36, 37, 38, 39, 40, 41, 42, 43, 44, 45, 46, 47, 48, 49, 50, 51,\n",
              "       52, 53, 54, 55, 56, 57, 58, 59, 60, 61, 62, 63, 64, 65, 66, 67, 68,\n",
              "       69, 70, 71, 72, 73, 74, 75, 76, 77, 78, 79, 80, 81, 82, 83, 84, 85,\n",
              "       86, 87])"
            ]
          },
          "metadata": {},
          "execution_count": 5
        }
      ]
    },
    {
      "cell_type": "code",
      "source": [
        "#Carregando agora os dados\n",
        "dado = np.loadtxt('apples_ts.csv', delimiter=',', usecols=np.arange(1, 88, 1))\n",
        "dado"
      ],
      "metadata": {
        "colab": {
          "base_uri": "https://localhost:8080/"
        },
        "id": "X679ANlSUZVJ",
        "outputId": "7c132157-dc38-4e2b-d7d9-07df5a669670"
      },
      "execution_count": null,
      "outputs": [
        {
          "output_type": "execute_result",
          "data": {
            "text/plain": [
              "array([[  1.2013,   2.2013,   3.2013,   4.2013,   5.2013,   6.2013,\n",
              "          7.2013,   8.2013,   9.2013,  10.2013,  11.2013,  12.2013,\n",
              "          1.2014,   2.2014,   3.2014,   4.2014,   5.2014,   6.2014,\n",
              "          7.2014,   8.2014,   9.2014,  10.2014,  11.2014,  12.2014,\n",
              "          1.2015,   2.2015,   3.2015,   4.2015,   5.2015,   6.2015,\n",
              "          7.2015,   8.2015,   9.2015,  10.2015,  11.2015,  12.2015,\n",
              "          1.2016,   2.2016,   3.2016,   4.2016,   5.2016,   6.2016,\n",
              "          7.2016,   8.2016,   9.2016,  10.2016,  11.2016,  12.2016,\n",
              "          1.2017,   2.2017,   3.2017,   4.2017,   5.2017,   6.2017,\n",
              "          7.2017,   8.2017,   9.2017,  10.2017,  11.2017,  12.2017,\n",
              "          1.2018,   2.2018,   3.2018,   4.2018,   5.2018,   6.2018,\n",
              "          7.2018,   8.2018,   9.2018,  10.2018,  11.2018,  12.2018,\n",
              "          1.2019,   2.2019,   3.2019,   4.2019,   5.2019,   6.2019,\n",
              "          7.2019,   8.2019,   9.2019,  10.2019,  11.2019,  12.2019,\n",
              "          1.202 ,   2.202 ,   3.202 ],\n",
              "       [ 79.72  ,  81.08  ,  79.68  ,  79.8   ,  80.63  ,  80.8   ,\n",
              "         80.28  ,  78.99  ,  76.77  ,  76.09  ,  76.36  ,  77.16  ,\n",
              "         77.5   ,  79.03  ,  80.28  ,  80.05  ,  78.11  ,  76.9   ,\n",
              "         77.68  ,  76.05  ,  75.53  ,  73.39  ,  78.36  ,  89.16  ,\n",
              "        105.43  , 104.82  , 101.15  ,  98.63  ,  99.96  ,  97.29  ,\n",
              "         98.64  , 104.26  , 102.63  ,  98.64  ,  97.17  ,  98.09  ,\n",
              "        103.07  , 110.26  , 110.84  , 112.28  , 111.1   , 110.06  ,\n",
              "        113.7   , 112.88  , 102.08  ,  95.54  ,  91.33  ,  89.99  ,\n",
              "         91.44  ,  93.51  ,  93.6   ,  93.78  ,  98.91  , 121.76  ,\n",
              "        129.6   , 127.9   , 114.55  , 101.88  ,  99.09  , 103.35  ,\n",
              "        106.58  , 108.    , 114.95  , 121.17  , 122.48  , 127.58  ,\n",
              "        131.89  , 129.36  , 104.26  ,  93.45  ,  92.93  ,  96.15  ,\n",
              "         99.1   , 103.    , 103.31  , 103.01  , 107.37  , 116.91  ,\n",
              "        125.29  , 123.94  , 113.03  , 102.19  ,  97.83  , 101.07  ,\n",
              "        103.44  , 108.23  , 110.28  ],\n",
              "       [ 42.67  ,  44.37  ,  44.73  ,  46.75  ,      nan,  51.59  ,\n",
              "         57.8   ,  62.14  ,  56.76  ,  50.85  ,  46.43  ,  46.73  ,\n",
              "         45.85  ,  49.25  ,  48.14  ,  49.18  ,  49.49  ,  49.83  ,\n",
              "         49.14  ,  63.21  ,  61.2   ,  60.34  ,  62.2   ,  74.2   ,\n",
              "         75.32  ,  75.92  ,  72.89  ,  74.85  ,  92.19  ,  99.7   ,\n",
              "        102.78  ,  92.67  ,  90.63  ,  83.31  ,  75.5   ,  74.6   ,\n",
              "         76.94  ,  83.04  ,  80.74  ,  80.29  ,  82.82  ,  86.29  ,\n",
              "         87.41  ,  85.1   ,  78.08  ,  76.06  ,  69.23  ,  69.04  ,\n",
              "         64.48  ,  65.73  ,  67.2   ,  70.25  ,  82.59  ,  92.12  ,\n",
              "        100.82  ,  95.23  ,  89.51  ,  82.84  ,  82.3   ,  83.76  ,\n",
              "         84.72  ,  83.91  ,  99.14  , 101.6   , 113.03  , 119.54  ,\n",
              "        118.09  , 107.32  ,  82.6   ,  77.4   ,  71.77  ,  71.25  ,\n",
              "         71.35  ,  73.62  ,  76.2   ,  74.15  ,  75.67  ,  79.2   ,\n",
              "         80.85  ,  85.33  ,  75.02  ,  77.95  ,  78.98  ,  76.55  ,\n",
              "         74.89  ,  70.    ,  81.53  ],\n",
              "       [ 62.55  ,  62.73  ,  63.43  ,  63.83  ,  66.06  ,  69.22  ,\n",
              "         72.07  ,  69.31  ,  65.18  ,  62.13  ,  64.17  ,  65.5   ,\n",
              "         66.85  ,  68.38  ,  68.77  ,  69.32  ,  69.77  ,  70.17  ,\n",
              "         70.76  ,  75.16  ,  74.86  ,  71.47  ,  76.08  ,  82.11  ,\n",
              "         94.63  ,  98.54  ,  97.84  ,  94.54  ,  97.88  ,  97.73  ,\n",
              "        100.89  , 104.88  , 104.39  , 101.9   ,  98.99  ,  99.42  ,\n",
              "        106.37  , 113.89  , 114.78  , 115.6   , 115.89  , 117.66  ,\n",
              "        118.27  , 114.19  , 101.81  ,  91.62  ,  90.15  ,  90.55  ,\n",
              "         92.3   ,  91.75  ,  92.    ,  92.57  , 100.28  , 114.33  ,\n",
              "        122.17  , 117.83  , 112.49  ,  93.7   ,  97.17  ,  95.64  ,\n",
              "        102.21  , 107.58  , 110.48  , 117.73  , 122.07  , 128.58  ,\n",
              "        131.12  , 127.08  , 110.99  ,  97.43  ,  92.05  ,  93.21  ,\n",
              "         98.58  , 100.23  , 102.09  , 101.73  , 107.28  , 115.35  ,\n",
              "        123.03  , 123.08  , 109.71  ,  97.22  ,  95.75  ,  97.09  ,\n",
              "         98.18  , 103.1   , 110.6   ],\n",
              "       [ 48.26  ,  51.01  ,  50.91  ,  53.94  ,  61.27  ,  65.44  ,\n",
              "         56.51  ,  53.    ,  43.87  ,  42.12  ,  43.98  ,  44.66  ,\n",
              "         47.73  ,  52.31  ,  56.8   ,  51.15  ,  54.63  ,  55.8   ,\n",
              "         57.31  ,  53.81  ,  55.5   ,  52.95  ,  53.29  ,  54.86  ,\n",
              "         71.72  ,  74.36  ,  78.25  ,  70.63  ,  77.06  ,  81.52  ,\n",
              "         84.12  ,  83.33  ,  66.98  ,  62.04  ,  59.79  ,  66.06  ,\n",
              "         71.99  ,  76.79  ,  80.98  ,  89.18  ,  92.71  ,  94.85  ,\n",
              "         99.18  ,  86.33  ,  71.94  ,  67.18  ,  62.98  ,  69.45  ,\n",
              "         67.56  ,  67.92  ,  68.4   ,  67.97  ,  76.33  ,  95.79  ,\n",
              "        112.36  ,  82.03  ,  73.83  ,  66.12  ,  63.24  ,  63.98  ,\n",
              "         69.1   ,  70.04  ,  80.03  ,  87.92  ,  97.07  , 106.52  ,\n",
              "        108.93  ,  95.17  ,  74.31  ,  62.63  ,  69.92  ,  70.58  ,\n",
              "         74.63  ,  78.69  ,  81.82  ,  82.36  ,  89.44  , 102.01  ,\n",
              "        116.12  ,  92.06  ,  82.7   ,  66.62  ,  68.11  ,  73.48  ,\n",
              "         82.04  ,  81.19  ,  95.05  ],\n",
              "       [ 71.25  ,  71.35  ,  70.9   ,  71.92  ,  72.91  ,  74.39  ,\n",
              "         73.1   ,  70.24  ,  69.12  ,  68.98  ,  68.58  ,  69.5   ,\n",
              "         70.14  ,  70.58  ,  70.78  ,  72.78  ,  72.84  ,  74.74  ,\n",
              "         76.43  ,  81.2   ,  82.04  ,  79.67  ,  81.25  ,  85.88  ,\n",
              "         91.35  , 101.32  , 102.45  ,  98.18  , 105.1   , 104.85  ,\n",
              "        111.48  , 118.51  , 118.92  , 109.87  , 105.22  , 105.45  ,\n",
              "        115.61  , 116.61  , 120.39  , 119.2   , 119.92  , 120.57  ,\n",
              "        123.37  , 121.39  , 118.16  , 108.84  , 100.78  ,  99.92  ,\n",
              "        100.65  ,  98.92  , 100.31  ,  96.41  , 101.24  , 118.7   ,\n",
              "        133.29  , 130.31  , 122.4   , 104.98  , 107.54  , 110.74  ,\n",
              "        110.51  , 111.46  , 113.42  , 118.15  , 114.    , 124.91  ,\n",
              "        126.06  , 123.3   , 111.61  ,  98.82  ,  97.47  , 103.01  ,\n",
              "        109.36  , 104.79  , 105.09  , 103.16  , 106.52  , 121.68  ,\n",
              "        125.32  , 123.41  , 108.48  ,  98.73  ,  96.25  , 100.12  ,\n",
              "        101.29  , 102.81  , 108.53  ]])"
            ]
          },
          "metadata": {},
          "execution_count": 6
        }
      ]
    },
    {
      "cell_type": "code",
      "source": [],
      "metadata": {
        "id": "vRwP1mwtV8g5"
      },
      "execution_count": null,
      "outputs": []
    },
    {
      "cell_type": "markdown",
      "source": [
        "# **Outra forma de carregar os dados**\n",
        "Você vai lá no GitHub, abre o arquivo e clica em Raw\n",
        "aí vc copia o link\n",
        "\n"
      ],
      "metadata": {
        "id": "Qn5t-s1NX5Z6"
      }
    },
    {
      "cell_type": "code",
      "source": [
        "#Com a criação do link, vc precisa criar um url para o link\n",
        "#url = 'https:// wlalalal'\n",
        "\n",
        "#Aí, para uparr, vc faz a mesma coisa que, só que ao inves de chamar o nome do arquivo, vc chama a url\n",
        "\n",
        "# Como seria: dado = np.loadtxt(url, delimiter=',', usecols=np.arange(1, 88, 1))\n",
        "\n"
      ],
      "metadata": {
        "id": "0SkzZgoBXS6Q"
      },
      "execution_count": null,
      "outputs": []
    },
    {
      "cell_type": "code",
      "source": [
        "dado"
      ],
      "metadata": {
        "colab": {
          "base_uri": "https://localhost:8080/"
        },
        "id": "S9SlXDc3aDnk",
        "outputId": "8d2e5254-ca88-45f5-c992-d5318e466347"
      },
      "execution_count": null,
      "outputs": [
        {
          "output_type": "execute_result",
          "data": {
            "text/plain": [
              "array([[  1.2013,   2.2013,   3.2013,   4.2013,   5.2013,   6.2013,\n",
              "          7.2013,   8.2013,   9.2013,  10.2013,  11.2013,  12.2013,\n",
              "          1.2014,   2.2014,   3.2014,   4.2014,   5.2014,   6.2014,\n",
              "          7.2014,   8.2014,   9.2014,  10.2014,  11.2014,  12.2014,\n",
              "          1.2015,   2.2015,   3.2015,   4.2015,   5.2015,   6.2015,\n",
              "          7.2015,   8.2015,   9.2015,  10.2015,  11.2015,  12.2015,\n",
              "          1.2016,   2.2016,   3.2016,   4.2016,   5.2016,   6.2016,\n",
              "          7.2016,   8.2016,   9.2016,  10.2016,  11.2016,  12.2016,\n",
              "          1.2017,   2.2017,   3.2017,   4.2017,   5.2017,   6.2017,\n",
              "          7.2017,   8.2017,   9.2017,  10.2017,  11.2017,  12.2017,\n",
              "          1.2018,   2.2018,   3.2018,   4.2018,   5.2018,   6.2018,\n",
              "          7.2018,   8.2018,   9.2018,  10.2018,  11.2018,  12.2018,\n",
              "          1.2019,   2.2019,   3.2019,   4.2019,   5.2019,   6.2019,\n",
              "          7.2019,   8.2019,   9.2019,  10.2019,  11.2019,  12.2019,\n",
              "          1.202 ,   2.202 ,   3.202 ],\n",
              "       [ 79.72  ,  81.08  ,  79.68  ,  79.8   ,  80.63  ,  80.8   ,\n",
              "         80.28  ,  78.99  ,  76.77  ,  76.09  ,  76.36  ,  77.16  ,\n",
              "         77.5   ,  79.03  ,  80.28  ,  80.05  ,  78.11  ,  76.9   ,\n",
              "         77.68  ,  76.05  ,  75.53  ,  73.39  ,  78.36  ,  89.16  ,\n",
              "        105.43  , 104.82  , 101.15  ,  98.63  ,  99.96  ,  97.29  ,\n",
              "         98.64  , 104.26  , 102.63  ,  98.64  ,  97.17  ,  98.09  ,\n",
              "        103.07  , 110.26  , 110.84  , 112.28  , 111.1   , 110.06  ,\n",
              "        113.7   , 112.88  , 102.08  ,  95.54  ,  91.33  ,  89.99  ,\n",
              "         91.44  ,  93.51  ,  93.6   ,  93.78  ,  98.91  , 121.76  ,\n",
              "        129.6   , 127.9   , 114.55  , 101.88  ,  99.09  , 103.35  ,\n",
              "        106.58  , 108.    , 114.95  , 121.17  , 122.48  , 127.58  ,\n",
              "        131.89  , 129.36  , 104.26  ,  93.45  ,  92.93  ,  96.15  ,\n",
              "         99.1   , 103.    , 103.31  , 103.01  , 107.37  , 116.91  ,\n",
              "        125.29  , 123.94  , 113.03  , 102.19  ,  97.83  , 101.07  ,\n",
              "        103.44  , 108.23  , 110.28  ],\n",
              "       [ 42.67  ,  44.37  ,  44.73  ,  46.75  ,      nan,  51.59  ,\n",
              "         57.8   ,  62.14  ,  56.76  ,  50.85  ,  46.43  ,  46.73  ,\n",
              "         45.85  ,  49.25  ,  48.14  ,  49.18  ,  49.49  ,  49.83  ,\n",
              "         49.14  ,  63.21  ,  61.2   ,  60.34  ,  62.2   ,  74.2   ,\n",
              "         75.32  ,  75.92  ,  72.89  ,  74.85  ,  92.19  ,  99.7   ,\n",
              "        102.78  ,  92.67  ,  90.63  ,  83.31  ,  75.5   ,  74.6   ,\n",
              "         76.94  ,  83.04  ,  80.74  ,  80.29  ,  82.82  ,  86.29  ,\n",
              "         87.41  ,  85.1   ,  78.08  ,  76.06  ,  69.23  ,  69.04  ,\n",
              "         64.48  ,  65.73  ,  67.2   ,  70.25  ,  82.59  ,  92.12  ,\n",
              "        100.82  ,  95.23  ,  89.51  ,  82.84  ,  82.3   ,  83.76  ,\n",
              "         84.72  ,  83.91  ,  99.14  , 101.6   , 113.03  , 119.54  ,\n",
              "        118.09  , 107.32  ,  82.6   ,  77.4   ,  71.77  ,  71.25  ,\n",
              "         71.35  ,  73.62  ,  76.2   ,  74.15  ,  75.67  ,  79.2   ,\n",
              "         80.85  ,  85.33  ,  75.02  ,  77.95  ,  78.98  ,  76.55  ,\n",
              "         74.89  ,  70.    ,  81.53  ],\n",
              "       [ 62.55  ,  62.73  ,  63.43  ,  63.83  ,  66.06  ,  69.22  ,\n",
              "         72.07  ,  69.31  ,  65.18  ,  62.13  ,  64.17  ,  65.5   ,\n",
              "         66.85  ,  68.38  ,  68.77  ,  69.32  ,  69.77  ,  70.17  ,\n",
              "         70.76  ,  75.16  ,  74.86  ,  71.47  ,  76.08  ,  82.11  ,\n",
              "         94.63  ,  98.54  ,  97.84  ,  94.54  ,  97.88  ,  97.73  ,\n",
              "        100.89  , 104.88  , 104.39  , 101.9   ,  98.99  ,  99.42  ,\n",
              "        106.37  , 113.89  , 114.78  , 115.6   , 115.89  , 117.66  ,\n",
              "        118.27  , 114.19  , 101.81  ,  91.62  ,  90.15  ,  90.55  ,\n",
              "         92.3   ,  91.75  ,  92.    ,  92.57  , 100.28  , 114.33  ,\n",
              "        122.17  , 117.83  , 112.49  ,  93.7   ,  97.17  ,  95.64  ,\n",
              "        102.21  , 107.58  , 110.48  , 117.73  , 122.07  , 128.58  ,\n",
              "        131.12  , 127.08  , 110.99  ,  97.43  ,  92.05  ,  93.21  ,\n",
              "         98.58  , 100.23  , 102.09  , 101.73  , 107.28  , 115.35  ,\n",
              "        123.03  , 123.08  , 109.71  ,  97.22  ,  95.75  ,  97.09  ,\n",
              "         98.18  , 103.1   , 110.6   ],\n",
              "       [ 48.26  ,  51.01  ,  50.91  ,  53.94  ,  61.27  ,  65.44  ,\n",
              "         56.51  ,  53.    ,  43.87  ,  42.12  ,  43.98  ,  44.66  ,\n",
              "         47.73  ,  52.31  ,  56.8   ,  51.15  ,  54.63  ,  55.8   ,\n",
              "         57.31  ,  53.81  ,  55.5   ,  52.95  ,  53.29  ,  54.86  ,\n",
              "         71.72  ,  74.36  ,  78.25  ,  70.63  ,  77.06  ,  81.52  ,\n",
              "         84.12  ,  83.33  ,  66.98  ,  62.04  ,  59.79  ,  66.06  ,\n",
              "         71.99  ,  76.79  ,  80.98  ,  89.18  ,  92.71  ,  94.85  ,\n",
              "         99.18  ,  86.33  ,  71.94  ,  67.18  ,  62.98  ,  69.45  ,\n",
              "         67.56  ,  67.92  ,  68.4   ,  67.97  ,  76.33  ,  95.79  ,\n",
              "        112.36  ,  82.03  ,  73.83  ,  66.12  ,  63.24  ,  63.98  ,\n",
              "         69.1   ,  70.04  ,  80.03  ,  87.92  ,  97.07  , 106.52  ,\n",
              "        108.93  ,  95.17  ,  74.31  ,  62.63  ,  69.92  ,  70.58  ,\n",
              "         74.63  ,  78.69  ,  81.82  ,  82.36  ,  89.44  , 102.01  ,\n",
              "        116.12  ,  92.06  ,  82.7   ,  66.62  ,  68.11  ,  73.48  ,\n",
              "         82.04  ,  81.19  ,  95.05  ],\n",
              "       [ 71.25  ,  71.35  ,  70.9   ,  71.92  ,  72.91  ,  74.39  ,\n",
              "         73.1   ,  70.24  ,  69.12  ,  68.98  ,  68.58  ,  69.5   ,\n",
              "         70.14  ,  70.58  ,  70.78  ,  72.78  ,  72.84  ,  74.74  ,\n",
              "         76.43  ,  81.2   ,  82.04  ,  79.67  ,  81.25  ,  85.88  ,\n",
              "         91.35  , 101.32  , 102.45  ,  98.18  , 105.1   , 104.85  ,\n",
              "        111.48  , 118.51  , 118.92  , 109.87  , 105.22  , 105.45  ,\n",
              "        115.61  , 116.61  , 120.39  , 119.2   , 119.92  , 120.57  ,\n",
              "        123.37  , 121.39  , 118.16  , 108.84  , 100.78  ,  99.92  ,\n",
              "        100.65  ,  98.92  , 100.31  ,  96.41  , 101.24  , 118.7   ,\n",
              "        133.29  , 130.31  , 122.4   , 104.98  , 107.54  , 110.74  ,\n",
              "        110.51  , 111.46  , 113.42  , 118.15  , 114.    , 124.91  ,\n",
              "        126.06  , 123.3   , 111.61  ,  98.82  ,  97.47  , 103.01  ,\n",
              "        109.36  , 104.79  , 105.09  , 103.16  , 106.52  , 121.68  ,\n",
              "        125.32  , 123.41  , 108.48  ,  98.73  ,  96.25  , 100.12  ,\n",
              "        101.29  , 102.81  , 108.53  ]])"
            ]
          },
          "metadata": {},
          "execution_count": 13
        }
      ]
    },
    {
      "cell_type": "markdown",
      "source": [
        "**# Função ndim**\n",
        "\n",
        "*(para verificar a quantidade de dimensões)*"
      ],
      "metadata": {
        "id": "YSphWdyGcFOA"
      }
    },
    {
      "cell_type": "code",
      "source": [
        "dado.ndim\n",
        "#temos qtd de informações com os quais nossos dados estao variando (tenho linha e coluna -> 2D)"
      ],
      "metadata": {
        "colab": {
          "base_uri": "https://localhost:8080/"
        },
        "id": "SnZGB_hMb5PV",
        "outputId": "ab166c90-10c8-4ccc-bd3a-897bc5f09e25"
      },
      "execution_count": null,
      "outputs": [
        {
          "output_type": "execute_result",
          "data": {
            "text/plain": [
              "2"
            ]
          },
          "metadata": {},
          "execution_count": 14
        }
      ]
    },
    {
      "cell_type": "markdown",
      "source": [
        "# **Função Size**\n",
        "Verifica a quantidade de elementos de um array"
      ],
      "metadata": {
        "id": "RzNJHnPScnMn"
      }
    },
    {
      "cell_type": "code",
      "source": [
        "dado.size"
      ],
      "metadata": {
        "colab": {
          "base_uri": "https://localhost:8080/"
        },
        "id": "3KYbwYKgcSNl",
        "outputId": "2f238aa7-b9a7-42af-dfd1-892a5a709eef"
      },
      "execution_count": null,
      "outputs": [
        {
          "output_type": "execute_result",
          "data": {
            "text/plain": [
              "522"
            ]
          },
          "metadata": {},
          "execution_count": 20
        }
      ]
    },
    {
      "cell_type": "markdown",
      "source": [
        "# **Função shape**\n",
        "Verifica o número de elementos em cada dimensão"
      ],
      "metadata": {
        "id": "o-UEM2QEcy4p"
      }
    },
    {
      "cell_type": "code",
      "source": [
        "dado.shape\n",
        "#tenho 6 linhas e 87 colunas"
      ],
      "metadata": {
        "colab": {
          "base_uri": "https://localhost:8080/"
        },
        "id": "fqIFjUC_cu2a",
        "outputId": "ffc35ece-8958-430d-b3ea-857faf4676ca"
      },
      "execution_count": null,
      "outputs": [
        {
          "output_type": "execute_result",
          "data": {
            "text/plain": [
              "(6, 87)"
            ]
          },
          "metadata": {},
          "execution_count": 21
        }
      ]
    },
    {
      "cell_type": "markdown",
      "source": [
        "# **Transposição**\n",
        "Posso trocar as linhas por colunas"
      ],
      "metadata": {
        "id": "wLhhy2p8dFDD"
      }
    },
    {
      "cell_type": "code",
      "source": [
        "#Para salvar a variável, pode ser feito assim:\n",
        "dado_transposto = dado.T\n",
        "dado_transposto"
      ],
      "metadata": {
        "colab": {
          "base_uri": "https://localhost:8080/"
        },
        "id": "8LDhf-Ucc8Cp",
        "outputId": "a2919534-3618-4fa7-c2f1-f586e1478ae8"
      },
      "execution_count": null,
      "outputs": [
        {
          "output_type": "execute_result",
          "data": {
            "text/plain": [
              "array([[  1.2013,  79.72  ,  42.67  ,  62.55  ,  48.26  ,  71.25  ],\n",
              "       [  2.2013,  81.08  ,  44.37  ,  62.73  ,  51.01  ,  71.35  ],\n",
              "       [  3.2013,  79.68  ,  44.73  ,  63.43  ,  50.91  ,  70.9   ],\n",
              "       [  4.2013,  79.8   ,  46.75  ,  63.83  ,  53.94  ,  71.92  ],\n",
              "       [  5.2013,  80.63  ,      nan,  66.06  ,  61.27  ,  72.91  ],\n",
              "       [  6.2013,  80.8   ,  51.59  ,  69.22  ,  65.44  ,  74.39  ],\n",
              "       [  7.2013,  80.28  ,  57.8   ,  72.07  ,  56.51  ,  73.1   ],\n",
              "       [  8.2013,  78.99  ,  62.14  ,  69.31  ,  53.    ,  70.24  ],\n",
              "       [  9.2013,  76.77  ,  56.76  ,  65.18  ,  43.87  ,  69.12  ],\n",
              "       [ 10.2013,  76.09  ,  50.85  ,  62.13  ,  42.12  ,  68.98  ],\n",
              "       [ 11.2013,  76.36  ,  46.43  ,  64.17  ,  43.98  ,  68.58  ],\n",
              "       [ 12.2013,  77.16  ,  46.73  ,  65.5   ,  44.66  ,  69.5   ],\n",
              "       [  1.2014,  77.5   ,  45.85  ,  66.85  ,  47.73  ,  70.14  ],\n",
              "       [  2.2014,  79.03  ,  49.25  ,  68.38  ,  52.31  ,  70.58  ],\n",
              "       [  3.2014,  80.28  ,  48.14  ,  68.77  ,  56.8   ,  70.78  ],\n",
              "       [  4.2014,  80.05  ,  49.18  ,  69.32  ,  51.15  ,  72.78  ],\n",
              "       [  5.2014,  78.11  ,  49.49  ,  69.77  ,  54.63  ,  72.84  ],\n",
              "       [  6.2014,  76.9   ,  49.83  ,  70.17  ,  55.8   ,  74.74  ],\n",
              "       [  7.2014,  77.68  ,  49.14  ,  70.76  ,  57.31  ,  76.43  ],\n",
              "       [  8.2014,  76.05  ,  63.21  ,  75.16  ,  53.81  ,  81.2   ],\n",
              "       [  9.2014,  75.53  ,  61.2   ,  74.86  ,  55.5   ,  82.04  ],\n",
              "       [ 10.2014,  73.39  ,  60.34  ,  71.47  ,  52.95  ,  79.67  ],\n",
              "       [ 11.2014,  78.36  ,  62.2   ,  76.08  ,  53.29  ,  81.25  ],\n",
              "       [ 12.2014,  89.16  ,  74.2   ,  82.11  ,  54.86  ,  85.88  ],\n",
              "       [  1.2015, 105.43  ,  75.32  ,  94.63  ,  71.72  ,  91.35  ],\n",
              "       [  2.2015, 104.82  ,  75.92  ,  98.54  ,  74.36  , 101.32  ],\n",
              "       [  3.2015, 101.15  ,  72.89  ,  97.84  ,  78.25  , 102.45  ],\n",
              "       [  4.2015,  98.63  ,  74.85  ,  94.54  ,  70.63  ,  98.18  ],\n",
              "       [  5.2015,  99.96  ,  92.19  ,  97.88  ,  77.06  , 105.1   ],\n",
              "       [  6.2015,  97.29  ,  99.7   ,  97.73  ,  81.52  , 104.85  ],\n",
              "       [  7.2015,  98.64  , 102.78  , 100.89  ,  84.12  , 111.48  ],\n",
              "       [  8.2015, 104.26  ,  92.67  , 104.88  ,  83.33  , 118.51  ],\n",
              "       [  9.2015, 102.63  ,  90.63  , 104.39  ,  66.98  , 118.92  ],\n",
              "       [ 10.2015,  98.64  ,  83.31  , 101.9   ,  62.04  , 109.87  ],\n",
              "       [ 11.2015,  97.17  ,  75.5   ,  98.99  ,  59.79  , 105.22  ],\n",
              "       [ 12.2015,  98.09  ,  74.6   ,  99.42  ,  66.06  , 105.45  ],\n",
              "       [  1.2016, 103.07  ,  76.94  , 106.37  ,  71.99  , 115.61  ],\n",
              "       [  2.2016, 110.26  ,  83.04  , 113.89  ,  76.79  , 116.61  ],\n",
              "       [  3.2016, 110.84  ,  80.74  , 114.78  ,  80.98  , 120.39  ],\n",
              "       [  4.2016, 112.28  ,  80.29  , 115.6   ,  89.18  , 119.2   ],\n",
              "       [  5.2016, 111.1   ,  82.82  , 115.89  ,  92.71  , 119.92  ],\n",
              "       [  6.2016, 110.06  ,  86.29  , 117.66  ,  94.85  , 120.57  ],\n",
              "       [  7.2016, 113.7   ,  87.41  , 118.27  ,  99.18  , 123.37  ],\n",
              "       [  8.2016, 112.88  ,  85.1   , 114.19  ,  86.33  , 121.39  ],\n",
              "       [  9.2016, 102.08  ,  78.08  , 101.81  ,  71.94  , 118.16  ],\n",
              "       [ 10.2016,  95.54  ,  76.06  ,  91.62  ,  67.18  , 108.84  ],\n",
              "       [ 11.2016,  91.33  ,  69.23  ,  90.15  ,  62.98  , 100.78  ],\n",
              "       [ 12.2016,  89.99  ,  69.04  ,  90.55  ,  69.45  ,  99.92  ],\n",
              "       [  1.2017,  91.44  ,  64.48  ,  92.3   ,  67.56  , 100.65  ],\n",
              "       [  2.2017,  93.51  ,  65.73  ,  91.75  ,  67.92  ,  98.92  ],\n",
              "       [  3.2017,  93.6   ,  67.2   ,  92.    ,  68.4   , 100.31  ],\n",
              "       [  4.2017,  93.78  ,  70.25  ,  92.57  ,  67.97  ,  96.41  ],\n",
              "       [  5.2017,  98.91  ,  82.59  , 100.28  ,  76.33  , 101.24  ],\n",
              "       [  6.2017, 121.76  ,  92.12  , 114.33  ,  95.79  , 118.7   ],\n",
              "       [  7.2017, 129.6   , 100.82  , 122.17  , 112.36  , 133.29  ],\n",
              "       [  8.2017, 127.9   ,  95.23  , 117.83  ,  82.03  , 130.31  ],\n",
              "       [  9.2017, 114.55  ,  89.51  , 112.49  ,  73.83  , 122.4   ],\n",
              "       [ 10.2017, 101.88  ,  82.84  ,  93.7   ,  66.12  , 104.98  ],\n",
              "       [ 11.2017,  99.09  ,  82.3   ,  97.17  ,  63.24  , 107.54  ],\n",
              "       [ 12.2017, 103.35  ,  83.76  ,  95.64  ,  63.98  , 110.74  ],\n",
              "       [  1.2018, 106.58  ,  84.72  , 102.21  ,  69.1   , 110.51  ],\n",
              "       [  2.2018, 108.    ,  83.91  , 107.58  ,  70.04  , 111.46  ],\n",
              "       [  3.2018, 114.95  ,  99.14  , 110.48  ,  80.03  , 113.42  ],\n",
              "       [  4.2018, 121.17  , 101.6   , 117.73  ,  87.92  , 118.15  ],\n",
              "       [  5.2018, 122.48  , 113.03  , 122.07  ,  97.07  , 114.    ],\n",
              "       [  6.2018, 127.58  , 119.54  , 128.58  , 106.52  , 124.91  ],\n",
              "       [  7.2018, 131.89  , 118.09  , 131.12  , 108.93  , 126.06  ],\n",
              "       [  8.2018, 129.36  , 107.32  , 127.08  ,  95.17  , 123.3   ],\n",
              "       [  9.2018, 104.26  ,  82.6   , 110.99  ,  74.31  , 111.61  ],\n",
              "       [ 10.2018,  93.45  ,  77.4   ,  97.43  ,  62.63  ,  98.82  ],\n",
              "       [ 11.2018,  92.93  ,  71.77  ,  92.05  ,  69.92  ,  97.47  ],\n",
              "       [ 12.2018,  96.15  ,  71.25  ,  93.21  ,  70.58  , 103.01  ],\n",
              "       [  1.2019,  99.1   ,  71.35  ,  98.58  ,  74.63  , 109.36  ],\n",
              "       [  2.2019, 103.    ,  73.62  , 100.23  ,  78.69  , 104.79  ],\n",
              "       [  3.2019, 103.31  ,  76.2   , 102.09  ,  81.82  , 105.09  ],\n",
              "       [  4.2019, 103.01  ,  74.15  , 101.73  ,  82.36  , 103.16  ],\n",
              "       [  5.2019, 107.37  ,  75.67  , 107.28  ,  89.44  , 106.52  ],\n",
              "       [  6.2019, 116.91  ,  79.2   , 115.35  , 102.01  , 121.68  ],\n",
              "       [  7.2019, 125.29  ,  80.85  , 123.03  , 116.12  , 125.32  ],\n",
              "       [  8.2019, 123.94  ,  85.33  , 123.08  ,  92.06  , 123.41  ],\n",
              "       [  9.2019, 113.03  ,  75.02  , 109.71  ,  82.7   , 108.48  ],\n",
              "       [ 10.2019, 102.19  ,  77.95  ,  97.22  ,  66.62  ,  98.73  ],\n",
              "       [ 11.2019,  97.83  ,  78.98  ,  95.75  ,  68.11  ,  96.25  ],\n",
              "       [ 12.2019, 101.07  ,  76.55  ,  97.09  ,  73.48  , 100.12  ],\n",
              "       [  1.202 , 103.44  ,  74.89  ,  98.18  ,  82.04  , 101.29  ],\n",
              "       [  2.202 , 108.23  ,  70.    , 103.1   ,  81.19  , 102.81  ],\n",
              "       [  3.202 , 110.28  ,  81.53  , 110.6   ,  95.05  , 108.53  ]])"
            ]
          },
          "metadata": {},
          "execution_count": 7
        }
      ]
    },
    {
      "cell_type": "code",
      "source": [
        "#Como visualizar as informações\n",
        "#selecionar e separar as informações das arrays\n",
        "\n",
        "  # dentro do [ ]\n",
        "  ##primeiro argumento se colocar : eu pego um intervalo de linhas,\n",
        "  ##segundo argumento se colocar 0, seleciono a primeira coluna\n",
        "\n",
        "#data está no primeira coluna, com várias linhas -> Seleciono primeiro as linhas, depois a coluna específica\n",
        "datas = dado_transposto[:,0]\n",
        "#preco está a partir da segunda coluna, com várias linhas -> Seleciono primeiro as linhas, depois o range de colunas\n",
        "  ##lembrando que tem aquele role do numero fina ser +1 para poder pegar o intervalo total (5 counas = 5+1 = 6)\n",
        "precos = dado_transposto[:,1:6]"
      ],
      "metadata": {
        "id": "JztsDjwKdO7L"
      },
      "execution_count": null,
      "outputs": []
    },
    {
      "cell_type": "markdown",
      "source": [
        "# **Criando visuais para os dados**\n",
        "\n",
        "O NumPy nao consegue fazer os graficos. Para isso, precisamos utilizar o Matplotlib. A seguir é apresentado o passo a passo"
      ],
      "metadata": {
        "id": "AGMoDILwQNz0"
      }
    },
    {
      "cell_type": "markdown",
      "source": [
        "#Função Plot\n",
        "para criar gráficos para uma única linha (cidade Moscou)"
      ],
      "metadata": {
        "id": "SKTWSPCEQs94"
      }
    },
    {
      "cell_type": "code",
      "source": [
        "import matplotlib.pyplot as plt"
      ],
      "metadata": {
        "id": "Bpm-W0yOPJ9v"
      },
      "execution_count": null,
      "outputs": []
    },
    {
      "cell_type": "code",
      "source": [
        "#Primeiro vc tm que passar a info no eixo x e depois no y\n",
        "#Quero os dados da primeira cidadae, preciso selecionar no intervalo tb\n",
        "  #primeiro argumento dentro do [] é as linhas, depois seleciono a coluna que quero\n",
        "plt.plot(datas,precos[:,0])"
      ],
      "metadata": {
        "colab": {
          "base_uri": "https://localhost:8080/",
          "height": 447
        },
        "id": "iv-ZV6LoQmBR",
        "outputId": "665a5192-d0ad-46d1-d7a8-e7451f355e89"
      },
      "execution_count": null,
      "outputs": [
        {
          "output_type": "execute_result",
          "data": {
            "text/plain": [
              "[<matplotlib.lines.Line2D at 0x7a48507d2ec0>]"
            ]
          },
          "metadata": {},
          "execution_count": 13
        },
        {
          "output_type": "display_data",
          "data": {
            "text/plain": [
              "<Figure size 640x480 with 1 Axes>"
            ],
            "image/png": "[encoded data removed]"
          },
          "metadata": {}
        }
      ]
    },
    {
      "cell_type": "code",
      "source": [
        "# O grafico acima esta confuso, precisamos organizar a informação\n",
        "datas"
      ],
      "metadata": {
        "colab": {
          "base_uri": "https://localhost:8080/"
        },
        "id": "ADl5fBsxQyjM",
        "outputId": "3ff0cfe9-b242-461b-da93-266cc80f2095"
      },
      "execution_count": null,
      "outputs": [
        {
          "output_type": "execute_result",
          "data": {
            "text/plain": [
              "array([ 1.2013,  2.2013,  3.2013,  4.2013,  5.2013,  6.2013,  7.2013,\n",
              "        8.2013,  9.2013, 10.2013, 11.2013, 12.2013,  1.2014,  2.2014,\n",
              "        3.2014,  4.2014,  5.2014,  6.2014,  7.2014,  8.2014,  9.2014,\n",
              "       10.2014, 11.2014, 12.2014,  1.2015,  2.2015,  3.2015,  4.2015,\n",
              "        5.2015,  6.2015,  7.2015,  8.2015,  9.2015, 10.2015, 11.2015,\n",
              "       12.2015,  1.2016,  2.2016,  3.2016,  4.2016,  5.2016,  6.2016,\n",
              "        7.2016,  8.2016,  9.2016, 10.2016, 11.2016, 12.2016,  1.2017,\n",
              "        2.2017,  3.2017,  4.2017,  5.2017,  6.2017,  7.2017,  8.2017,\n",
              "        9.2017, 10.2017, 11.2017, 12.2017,  1.2018,  2.2018,  3.2018,\n",
              "        4.2018,  5.2018,  6.2018,  7.2018,  8.2018,  9.2018, 10.2018,\n",
              "       11.2018, 12.2018,  1.2019,  2.2019,  3.2019,  4.2019,  5.2019,\n",
              "        6.2019,  7.2019,  8.2019,  9.2019, 10.2019, 11.2019, 12.2019,\n",
              "        1.202 ,  2.202 ,  3.202 ])"
            ]
          },
          "metadata": {},
          "execution_count": 14
        }
      ]
    },
    {
      "cell_type": "code",
      "source": [
        "#avariável datas está interpretando os dados como números com vírgulas. (ex: 1,2013).\n",
        "##Precisamos arrumar para que interprete como datas\n",
        "datas = np.arange(1,88,1)\n",
        "plt.plot(datas,precos[:,0])"
      ],
      "metadata": {
        "colab": {
          "base_uri": "https://localhost:8080/",
          "height": 447
        },
        "id": "eX3BrinSVHg7",
        "outputId": "e322c7ec-49f3-4484-82c1-f54c4d8eb05e"
      },
      "execution_count": null,
      "outputs": [
        {
          "output_type": "execute_result",
          "data": {
            "text/plain": [
              "[<matplotlib.lines.Line2D at 0x7a485051c790>]"
            ]
          },
          "metadata": {},
          "execution_count": 15
        },
        {
          "output_type": "display_data",
          "data": {
            "text/plain": [
              "<Figure size 640x480 with 1 Axes>"
            ],
            "image/png": "[encoded data removed]"
          },
          "metadata": {}
        }
      ]
    },
    {
      "cell_type": "markdown",
      "source": [
        "# **Função Plot**\n",
        "Acrescentando vários dados, no caso separarndo por cidades"
      ],
      "metadata": {
        "id": "73vwvOawWFdq"
      }
    },
    {
      "cell_type": "code",
      "source": [
        "#criando uma única variavel para a coluna de precos\n",
        "Moscou =  precos[:,0]\n",
        "Kaliningrad = precos[:,1]\n",
        "Petersburg = precos[:,2]\n",
        "Krasnodar = precos[:,3]\n",
        "Ekaterinburg = precos[:,4]"
      ],
      "metadata": {
        "id": "jplTkeYNVyGs"
      },
      "execution_count": null,
      "outputs": []
    },
    {
      "cell_type": "code",
      "source": [
        "Moscou"
      ],
      "metadata": {
        "colab": {
          "base_uri": "https://localhost:8080/"
        },
        "id": "7-3S2LTWW_VR",
        "outputId": "07f0dc05-d72f-4c54-c784-490763bf6a20"
      },
      "execution_count": null,
      "outputs": [
        {
          "output_type": "execute_result",
          "data": {
            "text/plain": [
              "array([ 79.72,  81.08,  79.68,  79.8 ,  80.63,  80.8 ,  80.28,  78.99,\n",
              "        76.77,  76.09,  76.36,  77.16,  77.5 ,  79.03,  80.28,  80.05,\n",
              "        78.11,  76.9 ,  77.68,  76.05,  75.53,  73.39,  78.36,  89.16,\n",
              "       105.43, 104.82, 101.15,  98.63,  99.96,  97.29,  98.64, 104.26,\n",
              "       102.63,  98.64,  97.17,  98.09, 103.07, 110.26, 110.84, 112.28,\n",
              "       111.1 , 110.06, 113.7 , 112.88, 102.08,  95.54,  91.33,  89.99,\n",
              "        91.44,  93.51,  93.6 ,  93.78,  98.91, 121.76, 129.6 , 127.9 ,\n",
              "       114.55, 101.88,  99.09, 103.35, 106.58, 108.  , 114.95, 121.17,\n",
              "       122.48, 127.58, 131.89, 129.36, 104.26,  93.45,  92.93,  96.15,\n",
              "        99.1 , 103.  , 103.31, 103.01, 107.37, 116.91, 125.29, 123.94,\n",
              "       113.03, 102.19,  97.83, 101.07, 103.44, 108.23, 110.28])"
            ]
          },
          "metadata": {},
          "execution_count": 11
        }
      ]
    },
    {
      "cell_type": "code",
      "source": [
        "#Podemos quebrar os dados plotados de Moscou em partes menores\n",
        "Moscou_ano1 = Moscou[0:12]\n",
        "Moscou_ano2 = Moscou[12:24]\n",
        "Moscou_ano3 = Moscou[24:36]\n",
        "Moscou_ano4 = Moscou[36:48]"
      ],
      "metadata": {
        "id": "TpP-L4HgXC7S"
      },
      "execution_count": null,
      "outputs": []
    },
    {
      "cell_type": "code",
      "source": [
        "#plotando os anos\n",
        "plt.plot(np.arange(1,13,1), Moscou_ano1)\n",
        "plt.plot(np.arange(1,13,1), Moscou_ano2)\n",
        "plt.plot(np.arange(1,13,1), Moscou_ano3)\n",
        "plt.plot(np.arange(1,13,1), Moscou_ano4)\n",
        "\n",
        "#Para identificar melhor as informações, posso utilizar o plt.legend\n",
        "plt.legend(['ano1', 'ano2', 'ano3','ano4'])"
      ],
      "metadata": {
        "colab": {
          "base_uri": "https://localhost:8080/",
          "height": 447
        },
        "id": "gXjHaSn3bTeM",
        "outputId": "b670b398-1cd6-4732-c0cc-b403f45b52b9"
      },
      "execution_count": null,
      "outputs": [
        {
          "output_type": "execute_result",
          "data": {
            "text/plain": [
              "<matplotlib.legend.Legend at 0x7a485069b1c0>"
            ]
          },
          "metadata": {},
          "execution_count": 19
        },
        {
          "output_type": "display_data",
          "data": {
            "text/plain": [
              "<Figure size 640x480 with 1 Axes>"
            ],
            "image/png": "[encoded data removed]"
          },
          "metadata": {}
        }
      ]
    },
    {
      "cell_type": "markdown",
      "source": [
        "# **Função array_equal**\n",
        "Para verificar se dois arrays são iguais"
      ],
      "metadata": {
        "id": "bGElnckVc-Ht"
      }
    },
    {
      "cell_type": "code",
      "source": [
        "np.array_equal(Moscou_ano3, Moscou_ano4)"
      ],
      "metadata": {
        "colab": {
          "base_uri": "https://localhost:8080/"
        },
        "id": "rBcO9ee9bdEj",
        "outputId": "64686b42-1850-4b46-d78d-26c8ada1017c"
      },
      "execution_count": null,
      "outputs": [
        {
          "output_type": "execute_result",
          "data": {
            "text/plain": [
              "False"
            ]
          },
          "metadata": {},
          "execution_count": 20
        }
      ]
    },
    {
      "cell_type": "code",
      "source": [
        "# Os dois arrays acima não são iguais,"
      ],
      "metadata": {
        "id": "skhL28IgdaH6"
      },
      "execution_count": null,
      "outputs": []
    },
    {
      "cell_type": "markdown",
      "source": [
        "# **Função allclose**\n",
        "Verifica se arrays são próximos (dentro de um intervalo)"
      ],
      "metadata": {
        "id": "oxr_0p1fdrP-"
      }
    },
    {
      "cell_type": "code",
      "source": [
        "#Para verificar se dentro de um intervalo teveuma diferença muito grarnde entre os anos,\n",
        "##O terceiro argumento dentro do parenteses se refere a faixa de valor que vc considera (ex: variação de 2)"
      ],
      "metadata": {
        "id": "kMtLrvMsddIF"
      },
      "execution_count": null,
      "outputs": []
    },
    {
      "cell_type": "code",
      "source": [
        "np.allclose(Moscou_ano1,Moscou_ano3, 2)"
      ],
      "metadata": {
        "colab": {
          "base_uri": "https://localhost:8080/"
        },
        "id": "XxA3LFRkdycb",
        "outputId": "81f347d4-63e1-437b-e518-6679baa0cb28"
      },
      "execution_count": null,
      "outputs": [
        {
          "output_type": "execute_result",
          "data": {
            "text/plain": [
              "True"
            ]
          },
          "metadata": {},
          "execution_count": 45
        }
      ]
    },
    {
      "cell_type": "markdown",
      "source": [
        "# **Lidando com NaNs**\n",
        "NaN = Not a Number (Não numérico)\n",
        "\n"
      ],
      "metadata": {
        "id": "A8nRfJTxg_Vl"
      }
    },
    {
      "cell_type": "code",
      "source": [
        "#exemplo de errro que pode ocorrer\n",
        "  # O dado apresentado popssui um vazio\n",
        "plt.plot(datas,Kaliningrad)"
      ],
      "metadata": {
        "colab": {
          "base_uri": "https://localhost:8080/",
          "height": 447
        },
        "id": "9zbPat91d8t1",
        "outputId": "05d73377-0e39-4576-f56f-625d8b0c488b"
      },
      "execution_count": null,
      "outputs": [
        {
          "output_type": "execute_result",
          "data": {
            "text/plain": [
              "[<matplotlib.lines.Line2D at 0x7f09ea12b610>]"
            ]
          },
          "metadata": {},
          "execution_count": 47
        },
        {
          "output_type": "display_data",
          "data": {
            "text/plain": [
              "<Figure size 640x480 with 1 Axes>"
            ],
            "image/png": "[encoded data removed]"
          },
          "metadata": {}
        }
      ]
    },
    {
      "cell_type": "code",
      "source": [
        "Kaliningrad"
      ],
      "metadata": {
        "colab": {
          "base_uri": "https://localhost:8080/"
        },
        "id": "hknhRWsihMPG",
        "outputId": "33fc770f-ce48-4207-8e2c-7ea72418ad11"
      },
      "execution_count": null,
      "outputs": [
        {
          "output_type": "execute_result",
          "data": {
            "text/plain": [
              "array([ 42.67,  44.37,  44.73,  46.75,    nan,  51.59,  57.8 ,  62.14,\n",
              "        56.76,  50.85,  46.43,  46.73,  45.85,  49.25,  48.14,  49.18,\n",
              "        49.49,  49.83,  49.14,  63.21,  61.2 ,  60.34,  62.2 ,  74.2 ,\n",
              "        75.32,  75.92,  72.89,  74.85,  92.19,  99.7 , 102.78,  92.67,\n",
              "        90.63,  83.31,  75.5 ,  74.6 ,  76.94,  83.04,  80.74,  80.29,\n",
              "        82.82,  86.29,  87.41,  85.1 ,  78.08,  76.06,  69.23,  69.04,\n",
              "        64.48,  65.73,  67.2 ,  70.25,  82.59,  92.12, 100.82,  95.23,\n",
              "        89.51,  82.84,  82.3 ,  83.76,  84.72,  83.91,  99.14, 101.6 ,\n",
              "       113.03, 119.54, 118.09, 107.32,  82.6 ,  77.4 ,  71.77,  71.25,\n",
              "        71.35,  73.62,  76.2 ,  74.15,  75.67,  79.2 ,  80.85,  85.33,\n",
              "        75.02,  77.95,  78.98,  76.55,  74.89,  70.  ,  81.53])"
            ]
          },
          "metadata": {},
          "execution_count": 48
        }
      ]
    },
    {
      "cell_type": "markdown",
      "source": [
        "# **Função np.isnan**\n",
        "Verificando a quantidade de valores NaN"
      ],
      "metadata": {
        "id": "NS0gLg80hly7"
      }
    },
    {
      "cell_type": "code",
      "source": [
        "#Primeira parte, transformar em True/False\n",
        "np.isnan(Kaliningrad)"
      ],
      "metadata": {
        "colab": {
          "base_uri": "https://localhost:8080/"
        },
        "id": "HnPS0PYFhWHe",
        "outputId": "3ff8356f-2977-4679-e81e-998c6195f9be"
      },
      "execution_count": null,
      "outputs": [
        {
          "output_type": "execute_result",
          "data": {
            "text/plain": [
              "array([False, False, False, False,  True, False, False, False, False,\n",
              "       False, False, False, False, False, False, False, False, False,\n",
              "       False, False, False, False, False, False, False, False, False,\n",
              "       False, False, False, False, False, False, False, False, False,\n",
              "       False, False, False, False, False, False, False, False, False,\n",
              "       False, False, False, False, False, False, False, False, False,\n",
              "       False, False, False, False, False, False, False, False, False,\n",
              "       False, False, False, False, False, False, False, False, False,\n",
              "       False, False, False, False, False, False, False, False, False,\n",
              "       False, False, False, False, False, False])"
            ]
          },
          "metadata": {},
          "execution_count": 14
        }
      ]
    },
    {
      "cell_type": "code",
      "source": [
        "#Somar os Falses\n",
        "sum(np.isnan(Kaliningrad))"
      ],
      "metadata": {
        "colab": {
          "base_uri": "https://localhost:8080/"
        },
        "id": "huvsCU9shn4e",
        "outputId": "35ff8ef9-f430-4876-e7f0-45157960ea0e"
      },
      "execution_count": null,
      "outputs": [
        {
          "output_type": "execute_result",
          "data": {
            "text/plain": [
              "1"
            ]
          },
          "metadata": {},
          "execution_count": 15
        }
      ]
    },
    {
      "cell_type": "markdown",
      "source": [
        "# **Lidando com valores NaNs**\n",
        "Como corrigir, lidar com eles"
      ],
      "metadata": {
        "id": "G6J0aWNBiUb8"
      }
    },
    {
      "cell_type": "code",
      "source": [
        "#Interpolando este valor (pegar media do valor antes e depois)\n",
        "  #No caso em que vc sabe em qual posião está\n",
        "(Kaliningrad[3]+Kaliningrad[5])/2"
      ],
      "metadata": {
        "colab": {
          "base_uri": "https://localhost:8080/"
        },
        "id": "srCE5e29iQsb",
        "outputId": "c47721fa-584c-4e2c-b18a-7af2e2678bb0"
      },
      "execution_count": null,
      "outputs": [
        {
          "output_type": "execute_result",
          "data": {
            "text/plain": [
              "49.17"
            ]
          },
          "metadata": {},
          "execution_count": 21
        }
      ]
    },
    {
      "cell_type": "code",
      "source": [
        "#Outra forma de calcular a média\n",
        "np.mean([Kaliningrad[3], Kaliningrad[5]])"
      ],
      "metadata": {
        "colab": {
          "base_uri": "https://localhost:8080/"
        },
        "id": "rLeKqMbfitgb",
        "outputId": "71394dfa-ced8-452a-ec61-1c2ffb959b2d"
      },
      "execution_count": null,
      "outputs": [
        {
          "output_type": "execute_result",
          "data": {
            "text/plain": [
              "49.17"
            ]
          },
          "metadata": {},
          "execution_count": 22
        }
      ]
    },
    {
      "cell_type": "code",
      "source": [
        "#Passando a média para a posição que tem o NaN\n",
        "Kaliningrad[4] = np.mean([Kaliningrad[3], Kaliningrad[5]])"
      ],
      "metadata": {
        "id": "vN7cEbjai8aT"
      },
      "execution_count": null,
      "outputs": []
    },
    {
      "cell_type": "code",
      "source": [
        "#Plotando o grafico correto agora\n",
        "plt.plot(datas,Kaliningrad)"
      ],
      "metadata": {
        "colab": {
          "base_uri": "https://localhost:8080/",
          "height": 447
        },
        "id": "0k13D4EojPXY",
        "outputId": "65a0d1e9-bc07-413b-c00a-4d203e450399"
      },
      "execution_count": null,
      "outputs": [
        {
          "output_type": "execute_result",
          "data": {
            "text/plain": [
              "[<matplotlib.lines.Line2D at 0x7a4850463760>]"
            ]
          },
          "metadata": {},
          "execution_count": 24
        },
        {
          "output_type": "display_data",
          "data": {
            "text/plain": [
              "<Figure size 640x480 with 1 Axes>"
            ],
            "image/png": "[encoded data removed]"
          },
          "metadata": {}
        }
      ]
    },
    {
      "cell_type": "markdown",
      "source": [
        "# **Comparando as médias de preço entre duas cidades**"
      ],
      "metadata": {
        "id": "WOt5DAoLjwa0"
      }
    },
    {
      "cell_type": "code",
      "source": [
        "np.mean(Moscou)"
      ],
      "metadata": {
        "colab": {
          "base_uri": "https://localhost:8080/"
        },
        "id": "l-vHCHiujpTY",
        "outputId": "97606100-f657-41c9-d3d3-80b514e6a2ed"
      },
      "execution_count": null,
      "outputs": [
        {
          "output_type": "execute_result",
          "data": {
            "text/plain": [
              "98.79781609195402"
            ]
          },
          "metadata": {},
          "execution_count": 57
        }
      ]
    },
    {
      "cell_type": "code",
      "source": [
        "np.mean(Kaliningrad)"
      ],
      "metadata": {
        "colab": {
          "base_uri": "https://localhost:8080/"
        },
        "id": "BzNL535hottN",
        "outputId": "9e513d54-d845-48b2-af8f-01c102208b07"
      },
      "execution_count": null,
      "outputs": [
        {
          "output_type": "execute_result",
          "data": {
            "text/plain": [
              "74.5506896551724"
            ]
          },
          "metadata": {},
          "execution_count": 58
        }
      ]
    },
    {
      "cell_type": "markdown",
      "source": [
        "# **Fazendo como o instrutor fez**\n",
        "\n",
        "Chegou a hora de você testar os conhecimentos desenvolvidos durante a aula. Continuando com o projeto das laranjas/toranjas agora você deve selecionar parte dos dados. As colunas que iremos avaliar são as de diâmetro e peso. Crie arrays específicos para guardar o diâmetro e peso da laranja e toranja. O diâmetro está na coluna zero e o peso na coluna 1. Os dados referentes a laranja vão até a linha 4999 e os referentes à toranja iniciam na linha 5000 do arquivo.\n",
        "Após fazer a seleção de dados, importe a biblioteca matplotlib e crie um gráfico para a laranja e para a toranja do peso pelo diâmetro.\n"
      ],
      "metadata": {
        "id": "JSfTTOD6pQXG"
      }
    },
    {
      "cell_type": "code",
      "source": [
        "# A resolução está em outro link https://colab.research.google.com/drive/1rf_RTOWUVP_HpSVx-M7XDAoEgrWhIpLm?usp=share_link"
      ],
      "metadata": {
        "id": "lT4x9mAGoy8a"
      },
      "execution_count": null,
      "outputs": []
    },
    {
      "cell_type": "markdown",
      "source": [
        "# **Aula 3 - Diferenças entre arrays**"
      ],
      "metadata": {
        "id": "AuHxAw0ipzkc"
      }
    },
    {
      "cell_type": "code",
      "source": [
        "plt.plot(datas,Moscou)"
      ],
      "metadata": {
        "id": "WiMse0yopS-i",
        "colab": {
          "base_uri": "https://localhost:8080/",
          "height": 447
        },
        "outputId": "e1551996-42fb-474e-ac9e-53336979aad9"
      },
      "execution_count": null,
      "outputs": [
        {
          "output_type": "execute_result",
          "data": {
            "text/plain": [
              "[<matplotlib.lines.Line2D at 0x786a1884cf10>]"
            ]
          },
          "metadata": {},
          "execution_count": 19
        },
        {
          "output_type": "display_data",
          "data": {
            "text/plain": [
              "<Figure size 640x480 with 1 Axes>"
            ],
            "image/png": "[encoded data removed]"
          },
          "metadata": {}
        }
      ]
    },
    {
      "cell_type": "markdown",
      "source": [
        "# **Ajustando uma reta para enteder a taxa de crescimento do preço das maçãs**\n",
        "(Mini regressão linear)"
      ],
      "metadata": {
        "id": "E5Jshjlgqerp"
      }
    },
    {
      "cell_type": "markdown",
      "source": [
        "\n",
        "## Calculando o coeficiente angular (a)\n",
        "*   a = Coneficiente angular\n",
        "*   n -> Número de elementos\n",
        "*   Y = Moscou\n",
        "*  X = Datas\n",
        "\n",
        "\n",
        "O coeficiente angular pode ser obtido usando a equação\n",
        "\n",
        "a = (n*Soma(Y+Y) - Soma(x)*Soma(Y))/nSoma(X²) - (Soma(X))²"
      ],
      "metadata": {
        "id": "1W1zL2C2Coqn"
      }
    },
    {
      "cell_type": "code",
      "source": [
        "#Calculando o coeficiente angular(a)\n",
        "\n",
        "Y = Moscou\n",
        "X = datas\n",
        "n = np.size(Moscou)"
      ],
      "metadata": {
        "id": "ZFVZur49sDXe"
      },
      "execution_count": null,
      "outputs": []
    },
    {
      "cell_type": "code",
      "source": [
        "#Elevando o X²\n",
        "  ##Posso usar o .shape para mostrar a qtd de elementos ao inves dos resultados da array ao ²\n",
        "\n",
        "(X**2).shape"
      ],
      "metadata": {
        "colab": {
          "base_uri": "https://localhost:8080/"
        },
        "id": "yRyCDro5DX8S",
        "outputId": "e167134e-505a-48ad-d732-8def0b4183a8"
      },
      "execution_count": null,
      "outputs": [
        {
          "output_type": "execute_result",
          "data": {
            "text/plain": [
              "(87,)"
            ]
          },
          "metadata": {},
          "execution_count": 27
        }
      ]
    },
    {
      "cell_type": "code",
      "source": [
        "#Calculando o Coeficiente angular (a)\n",
        "a = (n * np.sum(X*Y) - np.sum(X)* np.sum(Y)) / (n*np.sum(X**2) - (np.sum(X)**2))\n",
        "a"
      ],
      "metadata": {
        "colab": {
          "base_uri": "https://localhost:8080/"
        },
        "id": "9SklDqTBETSP",
        "outputId": "dcc4732b-66df-4bbc-a4a7-4d985980a734"
      },
      "execution_count": null,
      "outputs": [
        {
          "output_type": "execute_result",
          "data": {
            "text/plain": [
              "0.43520212145512926"
            ]
          },
          "metadata": {},
          "execution_count": 35
        }
      ]
    },
    {
      "cell_type": "markdown",
      "source": [
        "# Calculando o coeficiente linear (b)\n",
        "\n",
        "b = media(Y) - a*Media(X)"
      ],
      "metadata": {
        "id": "GUOrVRymFup9"
      }
    },
    {
      "cell_type": "code",
      "source": [
        "b = np.mean(Y) - a*np.mean(X)"
      ],
      "metadata": {
        "id": "bc-srRwNE6rr"
      },
      "execution_count": null,
      "outputs": []
    },
    {
      "cell_type": "code",
      "source": [
        "y = a*X + b"
      ],
      "metadata": {
        "id": "ay8LujxOG8xe"
      },
      "execution_count": null,
      "outputs": []
    },
    {
      "cell_type": "code",
      "source": [
        "np.linalg.norm(Moscou-y)"
      ],
      "metadata": {
        "colab": {
          "base_uri": "https://localhost:8080/"
        },
        "id": "7W3VUik7HAor",
        "outputId": "3a0fabdc-844d-45a2-919f-dd8391bd8ab9"
      },
      "execution_count": null,
      "outputs": [
        {
          "output_type": "execute_result",
          "data": {
            "text/plain": [
              "101.7969539992751"
            ]
          },
          "metadata": {},
          "execution_count": 40
        }
      ]
    },
    {
      "cell_type": "code",
      "source": [
        "#Trçando a reta com os dados de Moscou\n",
        "plt.plot(datas,Moscou)\n",
        "plt.plot(X,y)"
      ],
      "metadata": {
        "colab": {
          "base_uri": "https://localhost:8080/",
          "height": 447
        },
        "id": "QNPRrM3kHHb_",
        "outputId": "3650b5e0-590f-482d-d9ce-8236c1dcbbe5"
      },
      "execution_count": null,
      "outputs": [
        {
          "output_type": "execute_result",
          "data": {
            "text/plain": [
              "[<matplotlib.lines.Line2D at 0x7a4826bbdd20>]"
            ]
          },
          "metadata": {},
          "execution_count": 42
        },
        {
          "output_type": "display_data",
          "data": {
            "text/plain": [
              "<Figure size 640x480 with 1 Axes>"
            ],
            "image/png": "[encoded data removed]"
          },
          "metadata": {}
        }
      ]
    },
    {
      "cell_type": "markdown",
      "source": [
        "Motivo para a regressão (ESTIMATIVA DE VALOR)"
      ],
      "metadata": {
        "id": "Qy90lyfoH0eM"
      }
    },
    {
      "cell_type": "code",
      "source": [
        "#Dada a regressão apersentada, qual seria o preço da maçã em um determinado mes?\n",
        "\n",
        "plt.plot(datas,Moscou)\n",
        "plt.plot(X,y)\n",
        "plt.plot(41.5,41.5*a+b,'*r')"
      ],
      "metadata": {
        "colab": {
          "base_uri": "https://localhost:8080/",
          "height": 447
        },
        "id": "eQ-78Q8sILvM",
        "outputId": "b15d24d9-52e6-4b06-f920-4ccf2712347e"
      },
      "execution_count": null,
      "outputs": [
        {
          "output_type": "execute_result",
          "data": {
            "text/plain": [
              "[<matplotlib.lines.Line2D at 0x7a4826a6ad40>]"
            ]
          },
          "metadata": {},
          "execution_count": 43
        },
        {
          "output_type": "display_data",
          "data": {
            "text/plain": [
              "<Figure size 640x480 with 1 Axes>"
            ],
            "image/png": "[encoded data removed]"
          },
          "metadata": {}
        }
      ]
    },
    {
      "cell_type": "markdown",
      "source": [
        "# Estimando valores no futuro"
      ],
      "metadata": {
        "id": "iGmtQ6-PI-nv"
      }
    },
    {
      "cell_type": "code",
      "source": [
        "#Caso eu queira saber o valor para o mês 100\n",
        "plt.plot(datas,Moscou)\n",
        "plt.plot(X,y)\n",
        "plt.plot(100,100*a+b,'*r')\n"
      ],
      "metadata": {
        "colab": {
          "base_uri": "https://localhost:8080/",
          "height": 447
        },
        "id": "ENsALuKcIvZh",
        "outputId": "3b429fbd-15ed-41a3-d256-fd057fee4d82"
      },
      "execution_count": null,
      "outputs": [
        {
          "output_type": "execute_result",
          "data": {
            "text/plain": [
              "[<matplotlib.lines.Line2D at 0x7a4826ab41f0>]"
            ]
          },
          "metadata": {},
          "execution_count": 45
        },
        {
          "output_type": "display_data",
          "data": {
            "text/plain": [
              "<Figure size 640x480 with 1 Axes>"
            ],
            "image/png": "[encoded data removed]"
          },
          "metadata": {}
        }
      ]
    },
    {
      "cell_type": "markdown",
      "source": [
        "\n",
        "## Aula 04 - Números aleatórios\n",
        "\n",
        "\n"
      ],
      "metadata": {
        "id": "TjXEigl3hV5z"
      }
    },
    {
      "cell_type": "markdown",
      "source": [
        "## Função random.randint\n",
        "(Gera números inteiros aleatórios)"
      ],
      "metadata": {
        "id": "UIV-im4Xhf7I"
      }
    },
    {
      "cell_type": "code",
      "source": [
        "#100 números entre 40 e 100\n",
        "np.random.randint(low=40,high=100,size=100)"
      ],
      "metadata": {
        "colab": {
          "base_uri": "https://localhost:8080/"
        },
        "id": "kMUOmFo2JRrz",
        "outputId": "1cd3dab4-667a-49e4-a730-0fca94ac5550"
      },
      "execution_count": null,
      "outputs": [
        {
          "output_type": "execute_result",
          "data": {
            "text/plain": [
              "array([76, 80, 43, 94, 69, 48, 91, 76, 55, 93, 61, 90, 91, 45, 54, 89, 60,\n",
              "       48, 55, 43, 53, 85, 45, 48, 64, 86, 41, 64, 99, 80, 84, 50, 79, 86,\n",
              "       56, 83, 57, 97, 56, 69, 58, 52, 59, 43, 74, 84, 92, 68, 41, 46, 50,\n",
              "       55, 76, 87, 89, 95, 47, 69, 47, 76, 59, 83, 88, 95, 92, 41, 95, 62,\n",
              "       93, 82, 59, 62, 43, 68, 91, 51, 81, 58, 65, 51, 93, 84, 55, 66, 87,\n",
              "       44, 73, 99, 85, 96, 49, 75, 48, 41, 57, 89, 87, 95, 63, 58])"
            ]
          },
          "metadata": {},
          "execution_count": 46
        }
      ]
    },
    {
      "cell_type": "markdown",
      "source": [
        "## Função random.uniform\n",
        "(Gera valores tipo float aleatório)"
      ],
      "metadata": {
        "id": "oii53aLGiGbF"
      }
    },
    {
      "cell_type": "code",
      "source": [
        "#Gerando 100 numeros entre 0.1 e 0.9\n",
        "np.random.uniform(low=0.10,high=0.90,size=100)"
      ],
      "metadata": {
        "colab": {
          "base_uri": "https://localhost:8080/"
        },
        "id": "qjb0k3cXiImD",
        "outputId": "55e49534-f337-47e4-e78b-fcff3e80b302"
      },
      "execution_count": null,
      "outputs": [
        {
          "output_type": "execute_result",
          "data": {
            "text/plain": [
              "array([0.56119625, 0.63559289, 0.71190859, 0.66846873, 0.47847525,\n",
              "       0.48201898, 0.64349672, 0.30416307, 0.89533644, 0.69559924,\n",
              "       0.88707679, 0.53717196, 0.47544534, 0.31130927, 0.38593868,\n",
              "       0.84285289, 0.17479917, 0.10709465, 0.65692453, 0.51475629,\n",
              "       0.68234245, 0.33658587, 0.55296793, 0.42947368, 0.89787503,\n",
              "       0.6581737 , 0.78094423, 0.86400927, 0.67002391, 0.79536425,\n",
              "       0.77011606, 0.76220841, 0.15484738, 0.88508096, 0.45380582,\n",
              "       0.12240634, 0.77118593, 0.30772112, 0.47661201, 0.20224098,\n",
              "       0.30495693, 0.24047222, 0.89487489, 0.33296594, 0.80576434,\n",
              "       0.74470371, 0.82984316, 0.75395358, 0.72774213, 0.21758531,\n",
              "       0.72133955, 0.12397731, 0.75219445, 0.73325566, 0.79319789,\n",
              "       0.46355568, 0.77024208, 0.80647479, 0.25025316, 0.22403378,\n",
              "       0.64997764, 0.88840007, 0.83100914, 0.61006795, 0.46723993,\n",
              "       0.77958556, 0.69042216, 0.68002212, 0.17685691, 0.70585379,\n",
              "       0.44935578, 0.15147471, 0.44231238, 0.47506783, 0.1242721 ,\n",
              "       0.55050015, 0.55397137, 0.35610233, 0.72227142, 0.4426452 ,\n",
              "       0.15400663, 0.30619921, 0.47611875, 0.64844717, 0.25846551,\n",
              "       0.61245859, 0.76267093, 0.78965695, 0.36387616, 0.56772416,\n",
              "       0.71795319, 0.7390452 , 0.25128174, 0.80466826, 0.812258  ,\n",
              "       0.77708437, 0.36425512, 0.85550143, 0.80668344, 0.48821059])"
            ]
          },
          "metadata": {},
          "execution_count": 48
        }
      ]
    },
    {
      "cell_type": "code",
      "source": [
        "#Como testar cada um dos coeficientes angulares estimados\n",
        "\n",
        "coef_angulares = np.random.uniform(low=0.10,high=0.90,size=100)"
      ],
      "metadata": {
        "id": "La2_OyCFiZHl"
      },
      "execution_count": null,
      "outputs": []
    },
    {
      "cell_type": "code",
      "source": [
        "#Calculando o valor de y para cada um dos pontos\n",
        "#np.array transforma uma lista em array\n",
        "##Verifica a qualidade dos coeficientes gerados\n",
        "norma = np.array([])\n",
        "for i in range(100):\n",
        "  norma = np.append(norma,np.linalg.norm(Moscou-(coef_angulares[i]*X+b)))"
      ],
      "metadata": {
        "id": "KZCfqQdsi1by"
      },
      "execution_count": null,
      "outputs": []
    },
    {
      "cell_type": "code",
      "source": [
        "coef_angulares[1]"
      ],
      "metadata": {
        "colab": {
          "base_uri": "https://localhost:8080/"
        },
        "id": "sTAUhHLljLUS",
        "outputId": "1fa5684c-13e5-4d56-876a-1726a43b3e78"
      },
      "execution_count": null,
      "outputs": [
        {
          "output_type": "execute_result",
          "data": {
            "text/plain": [
              "0.27040215858516237"
            ]
          },
          "metadata": {},
          "execution_count": 58
        }
      ]
    },
    {
      "cell_type": "markdown",
      "source": [
        "## Reprodutibilidade em números aleatórios"
      ],
      "metadata": {
        "id": "d-tScYkfkNaJ"
      }
    },
    {
      "cell_type": "code",
      "source": [
        "np.random.uniform(low=0.10,high=0.90,size=100)"
      ],
      "metadata": {
        "colab": {
          "base_uri": "https://localhost:8080/"
        },
        "id": "VZjknAoLkC82",
        "outputId": "cd7e4200-a4de-45ff-d740-b59e313c1bca"
      },
      "execution_count": null,
      "outputs": [
        {
          "output_type": "execute_result",
          "data": {
            "text/plain": [
              "array([0.34212236, 0.73701997, 0.34017291, 0.77320729, 0.88524366,\n",
              "       0.11400949, 0.78045304, 0.60180041, 0.21819746, 0.68213899,\n",
              "       0.15868674, 0.59915649, 0.65567778, 0.45461228, 0.4240319 ,\n",
              "       0.49882353, 0.14101184, 0.13291941, 0.29576692, 0.24094264,\n",
              "       0.72640691, 0.88739022, 0.54963318, 0.59949607, 0.18446529,\n",
              "       0.25690593, 0.61477303, 0.39387386, 0.6963566 , 0.22176018,\n",
              "       0.84594966, 0.83642617, 0.34647172, 0.10378266, 0.22989455,\n",
              "       0.88760266, 0.6453405 , 0.19728733, 0.79870555, 0.70149879,\n",
              "       0.80060028, 0.57572264, 0.29240004, 0.1368456 , 0.42442568,\n",
              "       0.70621191, 0.78418677, 0.13110136, 0.26735505, 0.83884567,\n",
              "       0.23555515, 0.36384255, 0.34614448, 0.45981683, 0.77391819,\n",
              "       0.40801173, 0.62715902, 0.23510539, 0.62179527, 0.3489169 ,\n",
              "       0.76878774, 0.52193412, 0.52214034, 0.87003882, 0.24201247,\n",
              "       0.70124959, 0.45656326, 0.75691317, 0.26144592, 0.69270139,\n",
              "       0.45511086, 0.81840846, 0.25330558, 0.71689271, 0.57852745,\n",
              "       0.65014303, 0.61793361, 0.71516262, 0.27713879, 0.37539654,\n",
              "       0.15167998, 0.31063531, 0.58528449, 0.63971639, 0.4296957 ,\n",
              "       0.85493578, 0.37120811, 0.8587702 , 0.75268554, 0.66327144,\n",
              "       0.35122333, 0.73476596, 0.83535898, 0.28185425, 0.7928804 ,\n",
              "       0.80115742, 0.54315578, 0.8657556 , 0.43527729, 0.13869584])"
            ]
          },
          "metadata": {},
          "execution_count": 59
        }
      ]
    },
    {
      "cell_type": "markdown",
      "source": [
        "## Função random.seed\n",
        "(Seleciona um número de semente fixo para incializar  o gerador aleatório)"
      ],
      "metadata": {
        "id": "bQcp6eL6k6ci"
      }
    },
    {
      "cell_type": "code",
      "source": [
        "#para gerar a mesma sequencia de números com a função aleatória\n",
        "np.random.seed(16)\n",
        "np.random.uniform(low=0.10,high=0.90,size=100)"
      ],
      "metadata": {
        "colab": {
          "base_uri": "https://localhost:8080/"
        },
        "id": "PUBqcOZskpb5",
        "outputId": "c1fac8f6-0897-4ab0-dd74-e6c5203ae0f0"
      },
      "execution_count": null,
      "outputs": [
        {
          "output_type": "execute_result",
          "data": {
            "text/plain": [
              "array([0.27863286, 0.51853067, 0.54056117, 0.13648156, 0.38858307,\n",
              "       0.27846475, 0.65098093, 0.23098514, 0.15625989, 0.85280869,\n",
              "       0.5509451 , 0.16239387, 0.67811241, 0.22676174, 0.30022505,\n",
              "       0.3347898 , 0.65728857, 0.47141127, 0.27204971, 0.45746101,\n",
              "       0.196703  , 0.83414961, 0.55315706, 0.47761545, 0.35165314,\n",
              "       0.13457258, 0.70195593, 0.53461524, 0.71375234, 0.73235901,\n",
              "       0.1577771 , 0.62777267, 0.14263947, 0.64801956, 0.45468077,\n",
              "       0.47439692, 0.62884747, 0.65197331, 0.31066359, 0.10918315,\n",
              "       0.71703556, 0.75291386, 0.21171328, 0.5624054 , 0.37253942,\n",
              "       0.28577239, 0.258915  , 0.31719262, 0.88148221, 0.27234318,\n",
              "       0.38512593, 0.11471996, 0.59343222, 0.28432431, 0.69388139,\n",
              "       0.56740017, 0.43608284, 0.66740227, 0.87763642, 0.74803129,\n",
              "       0.44452414, 0.86618288, 0.13820648, 0.68622544, 0.64053316,\n",
              "       0.52160413, 0.55358996, 0.6783562 , 0.64608268, 0.73625014,\n",
              "       0.19027642, 0.25933011, 0.67705538, 0.41509386, 0.37134832,\n",
              "       0.22275655, 0.18045921, 0.42579769, 0.56633237, 0.69257642,\n",
              "       0.79628867, 0.87322093, 0.46445188, 0.4203384 , 0.3391517 ,\n",
              "       0.76268805, 0.82787294, 0.71290934, 0.15465183, 0.58482122,\n",
              "       0.85137291, 0.18171413, 0.88203161, 0.38535098, 0.62334973,\n",
              "       0.19822857, 0.86908175, 0.62094514, 0.84934225, 0.82706184])"
            ]
          },
          "metadata": {},
          "execution_count": 62
        }
      ]
    },
    {
      "cell_type": "code",
      "source": [
        "# O random.seed precisa estar junto com o comando que cria a função random.\n",
        "## Caso contrário, n vai manter os mesmos numeros"
      ],
      "metadata": {
        "id": "mWH_2E4ClELM"
      },
      "execution_count": null,
      "outputs": []
    },
    {
      "cell_type": "code",
      "source": [
        "np.random.seed(84)\n",
        "np.random.uniform(low=0.10,high=0.90,size=100)\n",
        "norma = np.array([])\n",
        "for i in range(100):\n",
        "  norma = np.append(norma,np.linalg.norm(Moscou-(coef_angulares[i]*X+b)))\n",
        "  print(norma)"
      ],
      "metadata": {
        "colab": {
          "base_uri": "https://localhost:8080/"
        },
        "id": "rVOj1inTloNM",
        "outputId": "19b1709c-a753-49ef-d37e-35e996bce189"
      },
      "execution_count": null,
      "outputs": [
        {
          "output_type": "stream",
          "name": "stdout",
          "text": [
            "[129.45154516]\n",
            "[129.45154516 128.16875884]\n",
            "[129.45154516 128.16875884 132.68505461]\n",
            "[129.45154516 128.16875884 132.68505461 102.68545038]\n",
            "[129.45154516 128.16875884 132.68505461 102.68545038 191.45602346]\n",
            "[129.45154516 128.16875884 132.68505461 102.68545038 191.45602346\n",
            " 146.01216356]\n",
            "[129.45154516 128.16875884 132.68505461 102.68545038 191.45602346\n",
            " 146.01216356 105.57384955]\n",
            "[129.45154516 128.16875884 132.68505461 102.68545038 191.45602346\n",
            " 146.01216356 105.57384955 105.81918314]\n",
            "[129.45154516 128.16875884 132.68505461 102.68545038 191.45602346\n",
            " 146.01216356 105.57384955 105.81918314 227.3768933 ]\n",
            "[129.45154516 128.16875884 132.68505461 102.68545038 191.45602346\n",
            " 146.01216356 105.57384955 105.81918314 227.3768933  106.51134972]\n",
            "[129.45154516 128.16875884 132.68505461 102.68545038 191.45602346\n",
            " 146.01216356 105.57384955 105.81918314 227.3768933  106.51134972\n",
            " 183.66501194]\n",
            "[129.45154516 128.16875884 132.68505461 102.68545038 191.45602346\n",
            " 146.01216356 105.57384955 105.81918314 227.3768933  106.51134972\n",
            " 183.66501194 166.48621254]\n",
            "[129.45154516 128.16875884 132.68505461 102.68545038 191.45602346\n",
            " 146.01216356 105.57384955 105.81918314 227.3768933  106.51134972\n",
            " 183.66501194 166.48621254 107.81105031]\n",
            "[129.45154516 128.16875884 132.68505461 102.68545038 191.45602346\n",
            " 146.01216356 105.57384955 105.81918314 227.3768933  106.51134972\n",
            " 183.66501194 166.48621254 107.81105031 105.516513  ]\n",
            "[129.45154516 128.16875884 132.68505461 102.68545038 191.45602346\n",
            " 146.01216356 105.57384955 105.81918314 227.3768933  106.51134972\n",
            " 183.66501194 166.48621254 107.81105031 105.516513   170.34293136]\n",
            "[129.45154516 128.16875884 132.68505461 102.68545038 191.45602346\n",
            " 146.01216356 105.57384955 105.81918314 227.3768933  106.51134972\n",
            " 183.66501194 166.48621254 107.81105031 105.516513   170.34293136\n",
            " 229.55719754]\n",
            "[129.45154516 128.16875884 132.68505461 102.68545038 191.45602346\n",
            " 146.01216356 105.57384955 105.81918314 227.3768933  106.51134972\n",
            " 183.66501194 166.48621254 107.81105031 105.516513   170.34293136\n",
            " 229.55719754 117.01955037]\n",
            "[129.45154516 128.16875884 132.68505461 102.68545038 191.45602346\n",
            " 146.01216356 105.57384955 105.81918314 227.3768933  106.51134972\n",
            " 183.66501194 166.48621254 107.81105031 105.516513   170.34293136\n",
            " 229.55719754 117.01955037 134.09963195]\n",
            "[129.45154516 128.16875884 132.68505461 102.68545038 191.45602346\n",
            " 146.01216356 105.57384955 105.81918314 227.3768933  106.51134972\n",
            " 183.66501194 166.48621254 107.81105031 105.516513   170.34293136\n",
            " 229.55719754 117.01955037 134.09963195 122.96601811]\n",
            "[129.45154516 128.16875884 132.68505461 102.68545038 191.45602346\n",
            " 146.01216356 105.57384955 105.81918314 227.3768933  106.51134972\n",
            " 183.66501194 166.48621254 107.81105031 105.516513   170.34293136\n",
            " 229.55719754 117.01955037 134.09963195 122.96601811 151.83262524]\n",
            "[129.45154516 128.16875884 132.68505461 102.68545038 191.45602346\n",
            " 146.01216356 105.57384955 105.81918314 227.3768933  106.51134972\n",
            " 183.66501194 166.48621254 107.81105031 105.516513   170.34293136\n",
            " 229.55719754 117.01955037 134.09963195 122.96601811 151.83262524\n",
            " 142.18478916]\n",
            "[129.45154516 128.16875884 132.68505461 102.68545038 191.45602346\n",
            " 146.01216356 105.57384955 105.81918314 227.3768933  106.51134972\n",
            " 183.66501194 166.48621254 107.81105031 105.516513   170.34293136\n",
            " 229.55719754 117.01955037 134.09963195 122.96601811 151.83262524\n",
            " 142.18478916 129.32316781]\n",
            "[129.45154516 128.16875884 132.68505461 102.68545038 191.45602346\n",
            " 146.01216356 105.57384955 105.81918314 227.3768933  106.51134972\n",
            " 183.66501194 166.48621254 107.81105031 105.516513   170.34293136\n",
            " 229.55719754 117.01955037 134.09963195 122.96601811 151.83262524\n",
            " 142.18478916 129.32316781 150.52383013]\n",
            "[129.45154516 128.16875884 132.68505461 102.68545038 191.45602346\n",
            " 146.01216356 105.57384955 105.81918314 227.3768933  106.51134972\n",
            " 183.66501194 166.48621254 107.81105031 105.516513   170.34293136\n",
            " 229.55719754 117.01955037 134.09963195 122.96601811 151.83262524\n",
            " 142.18478916 129.32316781 150.52383013 182.6525446 ]\n",
            "[129.45154516 128.16875884 132.68505461 102.68545038 191.45602346\n",
            " 146.01216356 105.57384955 105.81918314 227.3768933  106.51134972\n",
            " 183.66501194 166.48621254 107.81105031 105.516513   170.34293136\n",
            " 229.55719754 117.01955037 134.09963195 122.96601811 151.83262524\n",
            " 142.18478916 129.32316781 150.52383013 182.6525446  107.6373141 ]\n",
            "[129.45154516 128.16875884 132.68505461 102.68545038 191.45602346\n",
            " 146.01216356 105.57384955 105.81918314 227.3768933  106.51134972\n",
            " 183.66501194 166.48621254 107.81105031 105.516513   170.34293136\n",
            " 229.55719754 117.01955037 134.09963195 122.96601811 151.83262524\n",
            " 142.18478916 129.32316781 150.52383013 182.6525446  107.6373141\n",
            " 165.92144352]\n",
            "[129.45154516 128.16875884 132.68505461 102.68545038 191.45602346\n",
            " 146.01216356 105.57384955 105.81918314 227.3768933  106.51134972\n",
            " 183.66501194 166.48621254 107.81105031 105.516513   170.34293136\n",
            " 229.55719754 117.01955037 134.09963195 122.96601811 151.83262524\n",
            " 142.18478916 129.32316781 150.52383013 182.6525446  107.6373141\n",
            " 165.92144352 129.73189885]\n",
            "[129.45154516 128.16875884 132.68505461 102.68545038 191.45602346\n",
            " 146.01216356 105.57384955 105.81918314 227.3768933  106.51134972\n",
            " 183.66501194 166.48621254 107.81105031 105.516513   170.34293136\n",
            " 229.55719754 117.01955037 134.09963195 122.96601811 151.83262524\n",
            " 142.18478916 129.32316781 150.52383013 182.6525446  107.6373141\n",
            " 165.92144352 129.73189885 238.60492484]\n",
            "[129.45154516 128.16875884 132.68505461 102.68545038 191.45602346\n",
            " 146.01216356 105.57384955 105.81918314 227.3768933  106.51134972\n",
            " 183.66501194 166.48621254 107.81105031 105.516513   170.34293136\n",
            " 229.55719754 117.01955037 134.09963195 122.96601811 151.83262524\n",
            " 142.18478916 129.32316781 150.52383013 182.6525446  107.6373141\n",
            " 165.92144352 129.73189885 238.60492484 176.05600515]\n",
            "[129.45154516 128.16875884 132.68505461 102.68545038 191.45602346\n",
            " 146.01216356 105.57384955 105.81918314 227.3768933  106.51134972\n",
            " 183.66501194 166.48621254 107.81105031 105.516513   170.34293136\n",
            " 229.55719754 117.01955037 134.09963195 122.96601811 151.83262524\n",
            " 142.18478916 129.32316781 150.52383013 182.6525446  107.6373141\n",
            " 165.92144352 129.73189885 238.60492484 176.05600515 107.95591578]\n",
            "[129.45154516 128.16875884 132.68505461 102.68545038 191.45602346\n",
            " 146.01216356 105.57384955 105.81918314 227.3768933  106.51134972\n",
            " 183.66501194 166.48621254 107.81105031 105.516513   170.34293136\n",
            " 229.55719754 117.01955037 134.09963195 122.96601811 151.83262524\n",
            " 142.18478916 129.32316781 150.52383013 182.6525446  107.6373141\n",
            " 165.92144352 129.73189885 238.60492484 176.05600515 107.95591578\n",
            " 111.90908279]\n",
            "[129.45154516 128.16875884 132.68505461 102.68545038 191.45602346\n",
            " 146.01216356 105.57384955 105.81918314 227.3768933  106.51134972\n",
            " 183.66501194 166.48621254 107.81105031 105.516513   170.34293136\n",
            " 229.55719754 117.01955037 134.09963195 122.96601811 151.83262524\n",
            " 142.18478916 129.32316781 150.52383013 182.6525446  107.6373141\n",
            " 165.92144352 129.73189885 238.60492484 176.05600515 107.95591578\n",
            " 111.90908279 206.94692642]\n",
            "[129.45154516 128.16875884 132.68505461 102.68545038 191.45602346\n",
            " 146.01216356 105.57384955 105.81918314 227.3768933  106.51134972\n",
            " 183.66501194 166.48621254 107.81105031 105.516513   170.34293136\n",
            " 229.55719754 117.01955037 134.09963195 122.96601811 151.83262524\n",
            " 142.18478916 129.32316781 150.52383013 182.6525446  107.6373141\n",
            " 165.92144352 129.73189885 238.60492484 176.05600515 107.95591578\n",
            " 111.90908279 206.94692642 132.67928137]\n",
            "[129.45154516 128.16875884 132.68505461 102.68545038 191.45602346\n",
            " 146.01216356 105.57384955 105.81918314 227.3768933  106.51134972\n",
            " 183.66501194 166.48621254 107.81105031 105.516513   170.34293136\n",
            " 229.55719754 117.01955037 134.09963195 122.96601811 151.83262524\n",
            " 142.18478916 129.32316781 150.52383013 182.6525446  107.6373141\n",
            " 165.92144352 129.73189885 238.60492484 176.05600515 107.95591578\n",
            " 111.90908279 206.94692642 132.67928137 168.89440459]\n",
            "[129.45154516 128.16875884 132.68505461 102.68545038 191.45602346\n",
            " 146.01216356 105.57384955 105.81918314 227.3768933  106.51134972\n",
            " 183.66501194 166.48621254 107.81105031 105.516513   170.34293136\n",
            " 229.55719754 117.01955037 134.09963195 122.96601811 151.83262524\n",
            " 142.18478916 129.32316781 150.52383013 182.6525446  107.6373141\n",
            " 165.92144352 129.73189885 238.60492484 176.05600515 107.95591578\n",
            " 111.90908279 206.94692642 132.67928137 168.89440459 186.76255369]\n",
            "[129.45154516 128.16875884 132.68505461 102.68545038 191.45602346\n",
            " 146.01216356 105.57384955 105.81918314 227.3768933  106.51134972\n",
            " 183.66501194 166.48621254 107.81105031 105.516513   170.34293136\n",
            " 229.55719754 117.01955037 134.09963195 122.96601811 151.83262524\n",
            " 142.18478916 129.32316781 150.52383013 182.6525446  107.6373141\n",
            " 165.92144352 129.73189885 238.60492484 176.05600515 107.95591578\n",
            " 111.90908279 206.94692642 132.67928137 168.89440459 186.76255369\n",
            " 173.03817771]\n",
            "[129.45154516 128.16875884 132.68505461 102.68545038 191.45602346\n",
            " 146.01216356 105.57384955 105.81918314 227.3768933  106.51134972\n",
            " 183.66501194 166.48621254 107.81105031 105.516513   170.34293136\n",
            " 229.55719754 117.01955037 134.09963195 122.96601811 151.83262524\n",
            " 142.18478916 129.32316781 150.52383013 182.6525446  107.6373141\n",
            " 165.92144352 129.73189885 238.60492484 176.05600515 107.95591578\n",
            " 111.90908279 206.94692642 132.67928137 168.89440459 186.76255369\n",
            " 173.03817771 103.32249098]\n",
            "[129.45154516 128.16875884 132.68505461 102.68545038 191.45602346\n",
            " 146.01216356 105.57384955 105.81918314 227.3768933  106.51134972\n",
            " 183.66501194 166.48621254 107.81105031 105.516513   170.34293136\n",
            " 229.55719754 117.01955037 134.09963195 122.96601811 151.83262524\n",
            " 142.18478916 129.32316781 150.52383013 182.6525446  107.6373141\n",
            " 165.92144352 129.73189885 238.60492484 176.05600515 107.95591578\n",
            " 111.90908279 206.94692642 132.67928137 168.89440459 186.76255369\n",
            " 173.03817771 103.32249098 157.14762151]\n",
            "[129.45154516 128.16875884 132.68505461 102.68545038 191.45602346\n",
            " 146.01216356 105.57384955 105.81918314 227.3768933  106.51134972\n",
            " 183.66501194 166.48621254 107.81105031 105.516513   170.34293136\n",
            " 229.55719754 117.01955037 134.09963195 122.96601811 151.83262524\n",
            " 142.18478916 129.32316781 150.52383013 182.6525446  107.6373141\n",
            " 165.92144352 129.73189885 238.60492484 176.05600515 107.95591578\n",
            " 111.90908279 206.94692642 132.67928137 168.89440459 186.76255369\n",
            " 173.03817771 103.32249098 157.14762151 174.98527663]\n",
            "[129.45154516 128.16875884 132.68505461 102.68545038 191.45602346\n",
            " 146.01216356 105.57384955 105.81918314 227.3768933  106.51134972\n",
            " 183.66501194 166.48621254 107.81105031 105.516513   170.34293136\n",
            " 229.55719754 117.01955037 134.09963195 122.96601811 151.83262524\n",
            " 142.18478916 129.32316781 150.52383013 182.6525446  107.6373141\n",
            " 165.92144352 129.73189885 238.60492484 176.05600515 107.95591578\n",
            " 111.90908279 206.94692642 132.67928137 168.89440459 186.76255369\n",
            " 173.03817771 103.32249098 157.14762151 174.98527663 111.38855168]\n",
            "[129.45154516 128.16875884 132.68505461 102.68545038 191.45602346\n",
            " 146.01216356 105.57384955 105.81918314 227.3768933  106.51134972\n",
            " 183.66501194 166.48621254 107.81105031 105.516513   170.34293136\n",
            " 229.55719754 117.01955037 134.09963195 122.96601811 151.83262524\n",
            " 142.18478916 129.32316781 150.52383013 182.6525446  107.6373141\n",
            " 165.92144352 129.73189885 238.60492484 176.05600515 107.95591578\n",
            " 111.90908279 206.94692642 132.67928137 168.89440459 186.76255369\n",
            " 173.03817771 103.32249098 157.14762151 174.98527663 111.38855168\n",
            " 106.95334808]\n",
            "[129.45154516 128.16875884 132.68505461 102.68545038 191.45602346\n",
            " 146.01216356 105.57384955 105.81918314 227.3768933  106.51134972\n",
            " 183.66501194 166.48621254 107.81105031 105.516513   170.34293136\n",
            " 229.55719754 117.01955037 134.09963195 122.96601811 151.83262524\n",
            " 142.18478916 129.32316781 150.52383013 182.6525446  107.6373141\n",
            " 165.92144352 129.73189885 238.60492484 176.05600515 107.95591578\n",
            " 111.90908279 206.94692642 132.67928137 168.89440459 186.76255369\n",
            " 173.03817771 103.32249098 157.14762151 174.98527663 111.38855168\n",
            " 106.95334808 203.82541275]\n",
            "[129.45154516 128.16875884 132.68505461 102.68545038 191.45602346\n",
            " 146.01216356 105.57384955 105.81918314 227.3768933  106.51134972\n",
            " 183.66501194 166.48621254 107.81105031 105.516513   170.34293136\n",
            " 229.55719754 117.01955037 134.09963195 122.96601811 151.83262524\n",
            " 142.18478916 129.32316781 150.52383013 182.6525446  107.6373141\n",
            " 165.92144352 129.73189885 238.60492484 176.05600515 107.95591578\n",
            " 111.90908279 206.94692642 132.67928137 168.89440459 186.76255369\n",
            " 173.03817771 103.32249098 157.14762151 174.98527663 111.38855168\n",
            " 106.95334808 203.82541275 184.6017731 ]\n",
            "[129.45154516 128.16875884 132.68505461 102.68545038 191.45602346\n",
            " 146.01216356 105.57384955 105.81918314 227.3768933  106.51134972\n",
            " 183.66501194 166.48621254 107.81105031 105.516513   170.34293136\n",
            " 229.55719754 117.01955037 134.09963195 122.96601811 151.83262524\n",
            " 142.18478916 129.32316781 150.52383013 182.6525446  107.6373141\n",
            " 165.92144352 129.73189885 238.60492484 176.05600515 107.95591578\n",
            " 111.90908279 206.94692642 132.67928137 168.89440459 186.76255369\n",
            " 173.03817771 103.32249098 157.14762151 174.98527663 111.38855168\n",
            " 106.95334808 203.82541275 184.6017731  140.67599413]\n",
            "[129.45154516 128.16875884 132.68505461 102.68545038 191.45602346\n",
            " 146.01216356 105.57384955 105.81918314 227.3768933  106.51134972\n",
            " 183.66501194 166.48621254 107.81105031 105.516513   170.34293136\n",
            " 229.55719754 117.01955037 134.09963195 122.96601811 151.83262524\n",
            " 142.18478916 129.32316781 150.52383013 182.6525446  107.6373141\n",
            " 165.92144352 129.73189885 238.60492484 176.05600515 107.95591578\n",
            " 111.90908279 206.94692642 132.67928137 168.89440459 186.76255369\n",
            " 173.03817771 103.32249098 157.14762151 174.98527663 111.38855168\n",
            " 106.95334808 203.82541275 184.6017731  140.67599413 227.21154898]\n",
            "[129.45154516 128.16875884 132.68505461 102.68545038 191.45602346\n",
            " 146.01216356 105.57384955 105.81918314 227.3768933  106.51134972\n",
            " 183.66501194 166.48621254 107.81105031 105.516513   170.34293136\n",
            " 229.55719754 117.01955037 134.09963195 122.96601811 151.83262524\n",
            " 142.18478916 129.32316781 150.52383013 182.6525446  107.6373141\n",
            " 165.92144352 129.73189885 238.60492484 176.05600515 107.95591578\n",
            " 111.90908279 206.94692642 132.67928137 168.89440459 186.76255369\n",
            " 173.03817771 103.32249098 157.14762151 174.98527663 111.38855168\n",
            " 106.95334808 203.82541275 184.6017731  140.67599413 227.21154898\n",
            " 238.76424121]\n",
            "[129.45154516 128.16875884 132.68505461 102.68545038 191.45602346\n",
            " 146.01216356 105.57384955 105.81918314 227.3768933  106.51134972\n",
            " 183.66501194 166.48621254 107.81105031 105.516513   170.34293136\n",
            " 229.55719754 117.01955037 134.09963195 122.96601811 151.83262524\n",
            " 142.18478916 129.32316781 150.52383013 182.6525446  107.6373141\n",
            " 165.92144352 129.73189885 238.60492484 176.05600515 107.95591578\n",
            " 111.90908279 206.94692642 132.67928137 168.89440459 186.76255369\n",
            " 173.03817771 103.32249098 157.14762151 174.98527663 111.38855168\n",
            " 106.95334808 203.82541275 184.6017731  140.67599413 227.21154898\n",
            " 238.76424121 139.63795814]\n",
            "[129.45154516 128.16875884 132.68505461 102.68545038 191.45602346\n",
            " 146.01216356 105.57384955 105.81918314 227.3768933  106.51134972\n",
            " 183.66501194 166.48621254 107.81105031 105.516513   170.34293136\n",
            " 229.55719754 117.01955037 134.09963195 122.96601811 151.83262524\n",
            " 142.18478916 129.32316781 150.52383013 182.6525446  107.6373141\n",
            " 165.92144352 129.73189885 238.60492484 176.05600515 107.95591578\n",
            " 111.90908279 206.94692642 132.67928137 168.89440459 186.76255369\n",
            " 173.03817771 103.32249098 157.14762151 174.98527663 111.38855168\n",
            " 106.95334808 203.82541275 184.6017731  140.67599413 227.21154898\n",
            " 238.76424121 139.63795814 116.89418795]\n",
            "[129.45154516 128.16875884 132.68505461 102.68545038 191.45602346\n",
            " 146.01216356 105.57384955 105.81918314 227.3768933  106.51134972\n",
            " 183.66501194 166.48621254 107.81105031 105.516513   170.34293136\n",
            " 229.55719754 117.01955037 134.09963195 122.96601811 151.83262524\n",
            " 142.18478916 129.32316781 150.52383013 182.6525446  107.6373141\n",
            " 165.92144352 129.73189885 238.60492484 176.05600515 107.95591578\n",
            " 111.90908279 206.94692642 132.67928137 168.89440459 186.76255369\n",
            " 173.03817771 103.32249098 157.14762151 174.98527663 111.38855168\n",
            " 106.95334808 203.82541275 184.6017731  140.67599413 227.21154898\n",
            " 238.76424121 139.63795814 116.89418795 121.22405108]\n",
            "[129.45154516 128.16875884 132.68505461 102.68545038 191.45602346\n",
            " 146.01216356 105.57384955 105.81918314 227.3768933  106.51134972\n",
            " 183.66501194 166.48621254 107.81105031 105.516513   170.34293136\n",
            " 229.55719754 117.01955037 134.09963195 122.96601811 151.83262524\n",
            " 142.18478916 129.32316781 150.52383013 182.6525446  107.6373141\n",
            " 165.92144352 129.73189885 238.60492484 176.05600515 107.95591578\n",
            " 111.90908279 206.94692642 132.67928137 168.89440459 186.76255369\n",
            " 173.03817771 103.32249098 157.14762151 174.98527663 111.38855168\n",
            " 106.95334808 203.82541275 184.6017731  140.67599413 227.21154898\n",
            " 238.76424121 139.63795814 116.89418795 121.22405108 154.26498505]\n",
            "[129.45154516 128.16875884 132.68505461 102.68545038 191.45602346\n",
            " 146.01216356 105.57384955 105.81918314 227.3768933  106.51134972\n",
            " 183.66501194 166.48621254 107.81105031 105.516513   170.34293136\n",
            " 229.55719754 117.01955037 134.09963195 122.96601811 151.83262524\n",
            " 142.18478916 129.32316781 150.52383013 182.6525446  107.6373141\n",
            " 165.92144352 129.73189885 238.60492484 176.05600515 107.95591578\n",
            " 111.90908279 206.94692642 132.67928137 168.89440459 186.76255369\n",
            " 173.03817771 103.32249098 157.14762151 174.98527663 111.38855168\n",
            " 106.95334808 203.82541275 184.6017731  140.67599413 227.21154898\n",
            " 238.76424121 139.63795814 116.89418795 121.22405108 154.26498505\n",
            " 118.7308793 ]\n",
            "[129.45154516 128.16875884 132.68505461 102.68545038 191.45602346\n",
            " 146.01216356 105.57384955 105.81918314 227.3768933  106.51134972\n",
            " 183.66501194 166.48621254 107.81105031 105.516513   170.34293136\n",
            " 229.55719754 117.01955037 134.09963195 122.96601811 151.83262524\n",
            " 142.18478916 129.32316781 150.52383013 182.6525446  107.6373141\n",
            " 165.92144352 129.73189885 238.60492484 176.05600515 107.95591578\n",
            " 111.90908279 206.94692642 132.67928137 168.89440459 186.76255369\n",
            " 173.03817771 103.32249098 157.14762151 174.98527663 111.38855168\n",
            " 106.95334808 203.82541275 184.6017731  140.67599413 227.21154898\n",
            " 238.76424121 139.63795814 116.89418795 121.22405108 154.26498505\n",
            " 118.7308793  152.10526489]\n",
            "[129.45154516 128.16875884 132.68505461 102.68545038 191.45602346\n",
            " 146.01216356 105.57384955 105.81918314 227.3768933  106.51134972\n",
            " 183.66501194 166.48621254 107.81105031 105.516513   170.34293136\n",
            " 229.55719754 117.01955037 134.09963195 122.96601811 151.83262524\n",
            " 142.18478916 129.32316781 150.52383013 182.6525446  107.6373141\n",
            " 165.92144352 129.73189885 238.60492484 176.05600515 107.95591578\n",
            " 111.90908279 206.94692642 132.67928137 168.89440459 186.76255369\n",
            " 173.03817771 103.32249098 157.14762151 174.98527663 111.38855168\n",
            " 106.95334808 203.82541275 184.6017731  140.67599413 227.21154898\n",
            " 238.76424121 139.63795814 116.89418795 121.22405108 154.26498505\n",
            " 118.7308793  152.10526489 135.0825947 ]\n",
            "[129.45154516 128.16875884 132.68505461 102.68545038 191.45602346\n",
            " 146.01216356 105.57384955 105.81918314 227.3768933  106.51134972\n",
            " 183.66501194 166.48621254 107.81105031 105.516513   170.34293136\n",
            " 229.55719754 117.01955037 134.09963195 122.96601811 151.83262524\n",
            " 142.18478916 129.32316781 150.52383013 182.6525446  107.6373141\n",
            " 165.92144352 129.73189885 238.60492484 176.05600515 107.95591578\n",
            " 111.90908279 206.94692642 132.67928137 168.89440459 186.76255369\n",
            " 173.03817771 103.32249098 157.14762151 174.98527663 111.38855168\n",
            " 106.95334808 203.82541275 184.6017731  140.67599413 227.21154898\n",
            " 238.76424121 139.63795814 116.89418795 121.22405108 154.26498505\n",
            " 118.7308793  152.10526489 135.0825947  181.49221458]\n",
            "[129.45154516 128.16875884 132.68505461 102.68545038 191.45602346\n",
            " 146.01216356 105.57384955 105.81918314 227.3768933  106.51134972\n",
            " 183.66501194 166.48621254 107.81105031 105.516513   170.34293136\n",
            " 229.55719754 117.01955037 134.09963195 122.96601811 151.83262524\n",
            " 142.18478916 129.32316781 150.52383013 182.6525446  107.6373141\n",
            " 165.92144352 129.73189885 238.60492484 176.05600515 107.95591578\n",
            " 111.90908279 206.94692642 132.67928137 168.89440459 186.76255369\n",
            " 173.03817771 103.32249098 157.14762151 174.98527663 111.38855168\n",
            " 106.95334808 203.82541275 184.6017731  140.67599413 227.21154898\n",
            " 238.76424121 139.63795814 116.89418795 121.22405108 154.26498505\n",
            " 118.7308793  152.10526489 135.0825947  181.49221458 162.08792386]\n",
            "[129.45154516 128.16875884 132.68505461 102.68545038 191.45602346\n",
            " 146.01216356 105.57384955 105.81918314 227.3768933  106.51134972\n",
            " 183.66501194 166.48621254 107.81105031 105.516513   170.34293136\n",
            " 229.55719754 117.01955037 134.09963195 122.96601811 151.83262524\n",
            " 142.18478916 129.32316781 150.52383013 182.6525446  107.6373141\n",
            " 165.92144352 129.73189885 238.60492484 176.05600515 107.95591578\n",
            " 111.90908279 206.94692642 132.67928137 168.89440459 186.76255369\n",
            " 173.03817771 103.32249098 157.14762151 174.98527663 111.38855168\n",
            " 106.95334808 203.82541275 184.6017731  140.67599413 227.21154898\n",
            " 238.76424121 139.63795814 116.89418795 121.22405108 154.26498505\n",
            " 118.7308793  152.10526489 135.0825947  181.49221458 162.08792386\n",
            " 130.99046475]\n",
            "[129.45154516 128.16875884 132.68505461 102.68545038 191.45602346\n",
            " 146.01216356 105.57384955 105.81918314 227.3768933  106.51134972\n",
            " 183.66501194 166.48621254 107.81105031 105.516513   170.34293136\n",
            " 229.55719754 117.01955037 134.09963195 122.96601811 151.83262524\n",
            " 142.18478916 129.32316781 150.52383013 182.6525446  107.6373141\n",
            " 165.92144352 129.73189885 238.60492484 176.05600515 107.95591578\n",
            " 111.90908279 206.94692642 132.67928137 168.89440459 186.76255369\n",
            " 173.03817771 103.32249098 157.14762151 174.98527663 111.38855168\n",
            " 106.95334808 203.82541275 184.6017731  140.67599413 227.21154898\n",
            " 238.76424121 139.63795814 116.89418795 121.22405108 154.26498505\n",
            " 118.7308793  152.10526489 135.0825947  181.49221458 162.08792386\n",
            " 130.99046475 104.6455772 ]\n",
            "[129.45154516 128.16875884 132.68505461 102.68545038 191.45602346\n",
            " 146.01216356 105.57384955 105.81918314 227.3768933  106.51134972\n",
            " 183.66501194 166.48621254 107.81105031 105.516513   170.34293136\n",
            " 229.55719754 117.01955037 134.09963195 122.96601811 151.83262524\n",
            " 142.18478916 129.32316781 150.52383013 182.6525446  107.6373141\n",
            " 165.92144352 129.73189885 238.60492484 176.05600515 107.95591578\n",
            " 111.90908279 206.94692642 132.67928137 168.89440459 186.76255369\n",
            " 173.03817771 103.32249098 157.14762151 174.98527663 111.38855168\n",
            " 106.95334808 203.82541275 184.6017731  140.67599413 227.21154898\n",
            " 238.76424121 139.63795814 116.89418795 121.22405108 154.26498505\n",
            " 118.7308793  152.10526489 135.0825947  181.49221458 162.08792386\n",
            " 130.99046475 104.6455772  143.30016602]\n",
            "[129.45154516 128.16875884 132.68505461 102.68545038 191.45602346\n",
            " 146.01216356 105.57384955 105.81918314 227.3768933  106.51134972\n",
            " 183.66501194 166.48621254 107.81105031 105.516513   170.34293136\n",
            " 229.55719754 117.01955037 134.09963195 122.96601811 151.83262524\n",
            " 142.18478916 129.32316781 150.52383013 182.6525446  107.6373141\n",
            " 165.92144352 129.73189885 238.60492484 176.05600515 107.95591578\n",
            " 111.90908279 206.94692642 132.67928137 168.89440459 186.76255369\n",
            " 173.03817771 103.32249098 157.14762151 174.98527663 111.38855168\n",
            " 106.95334808 203.82541275 184.6017731  140.67599413 227.21154898\n",
            " 238.76424121 139.63795814 116.89418795 121.22405108 154.26498505\n",
            " 118.7308793  152.10526489 135.0825947  181.49221458 162.08792386\n",
            " 130.99046475 104.6455772  143.30016602 186.97668596]\n",
            "[129.45154516 128.16875884 132.68505461 102.68545038 191.45602346\n",
            " 146.01216356 105.57384955 105.81918314 227.3768933  106.51134972\n",
            " 183.66501194 166.48621254 107.81105031 105.516513   170.34293136\n",
            " 229.55719754 117.01955037 134.09963195 122.96601811 151.83262524\n",
            " 142.18478916 129.32316781 150.52383013 182.6525446  107.6373141\n",
            " 165.92144352 129.73189885 238.60492484 176.05600515 107.95591578\n",
            " 111.90908279 206.94692642 132.67928137 168.89440459 186.76255369\n",
            " 173.03817771 103.32249098 157.14762151 174.98527663 111.38855168\n",
            " 106.95334808 203.82541275 184.6017731  140.67599413 227.21154898\n",
            " 238.76424121 139.63795814 116.89418795 121.22405108 154.26498505\n",
            " 118.7308793  152.10526489 135.0825947  181.49221458 162.08792386\n",
            " 130.99046475 104.6455772  143.30016602 186.97668596 111.07650873]\n",
            "[129.45154516 128.16875884 132.68505461 102.68545038 191.45602346\n",
            " 146.01216356 105.57384955 105.81918314 227.3768933  106.51134972\n",
            " 183.66501194 166.48621254 107.81105031 105.516513   170.34293136\n",
            " 229.55719754 117.01955037 134.09963195 122.96601811 151.83262524\n",
            " 142.18478916 129.32316781 150.52383013 182.6525446  107.6373141\n",
            " 165.92144352 129.73189885 238.60492484 176.05600515 107.95591578\n",
            " 111.90908279 206.94692642 132.67928137 168.89440459 186.76255369\n",
            " 173.03817771 103.32249098 157.14762151 174.98527663 111.38855168\n",
            " 106.95334808 203.82541275 184.6017731  140.67599413 227.21154898\n",
            " 238.76424121 139.63795814 116.89418795 121.22405108 154.26498505\n",
            " 118.7308793  152.10526489 135.0825947  181.49221458 162.08792386\n",
            " 130.99046475 104.6455772  143.30016602 186.97668596 111.07650873\n",
            " 186.01582853]\n",
            "[129.45154516 128.16875884 132.68505461 102.68545038 191.45602346\n",
            " 146.01216356 105.57384955 105.81918314 227.3768933  106.51134972\n",
            " 183.66501194 166.48621254 107.81105031 105.516513   170.34293136\n",
            " 229.55719754 117.01955037 134.09963195 122.96601811 151.83262524\n",
            " 142.18478916 129.32316781 150.52383013 182.6525446  107.6373141\n",
            " 165.92144352 129.73189885 238.60492484 176.05600515 107.95591578\n",
            " 111.90908279 206.94692642 132.67928137 168.89440459 186.76255369\n",
            " 173.03817771 103.32249098 157.14762151 174.98527663 111.38855168\n",
            " 106.95334808 203.82541275 184.6017731  140.67599413 227.21154898\n",
            " 238.76424121 139.63795814 116.89418795 121.22405108 154.26498505\n",
            " 118.7308793  152.10526489 135.0825947  181.49221458 162.08792386\n",
            " 130.99046475 104.6455772  143.30016602 186.97668596 111.07650873\n",
            " 186.01582853 109.07651279]\n",
            "[129.45154516 128.16875884 132.68505461 102.68545038 191.45602346\n",
            " 146.01216356 105.57384955 105.81918314 227.3768933  106.51134972\n",
            " 183.66501194 166.48621254 107.81105031 105.516513   170.34293136\n",
            " 229.55719754 117.01955037 134.09963195 122.96601811 151.83262524\n",
            " 142.18478916 129.32316781 150.52383013 182.6525446  107.6373141\n",
            " 165.92144352 129.73189885 238.60492484 176.05600515 107.95591578\n",
            " 111.90908279 206.94692642 132.67928137 168.89440459 186.76255369\n",
            " 173.03817771 103.32249098 157.14762151 174.98527663 111.38855168\n",
            " 106.95334808 203.82541275 184.6017731  140.67599413 227.21154898\n",
            " 238.76424121 139.63795814 116.89418795 121.22405108 154.26498505\n",
            " 118.7308793  152.10526489 135.0825947  181.49221458 162.08792386\n",
            " 130.99046475 104.6455772  143.30016602 186.97668596 111.07650873\n",
            " 186.01582853 109.07651279 140.58195433]\n",
            "[129.45154516 128.16875884 132.68505461 102.68545038 191.45602346\n",
            " 146.01216356 105.57384955 105.81918314 227.3768933  106.51134972\n",
            " 183.66501194 166.48621254 107.81105031 105.516513   170.34293136\n",
            " 229.55719754 117.01955037 134.09963195 122.96601811 151.83262524\n",
            " 142.18478916 129.32316781 150.52383013 182.6525446  107.6373141\n",
            " 165.92144352 129.73189885 238.60492484 176.05600515 107.95591578\n",
            " 111.90908279 206.94692642 132.67928137 168.89440459 186.76255369\n",
            " 173.03817771 103.32249098 157.14762151 174.98527663 111.38855168\n",
            " 106.95334808 203.82541275 184.6017731  140.67599413 227.21154898\n",
            " 238.76424121 139.63795814 116.89418795 121.22405108 154.26498505\n",
            " 118.7308793  152.10526489 135.0825947  181.49221458 162.08792386\n",
            " 130.99046475 104.6455772  143.30016602 186.97668596 111.07650873\n",
            " 186.01582853 109.07651279 140.58195433 189.98559064]\n",
            "[129.45154516 128.16875884 132.68505461 102.68545038 191.45602346\n",
            " 146.01216356 105.57384955 105.81918314 227.3768933  106.51134972\n",
            " 183.66501194 166.48621254 107.81105031 105.516513   170.34293136\n",
            " 229.55719754 117.01955037 134.09963195 122.96601811 151.83262524\n",
            " 142.18478916 129.32316781 150.52383013 182.6525446  107.6373141\n",
            " 165.92144352 129.73189885 238.60492484 176.05600515 107.95591578\n",
            " 111.90908279 206.94692642 132.67928137 168.89440459 186.76255369\n",
            " 173.03817771 103.32249098 157.14762151 174.98527663 111.38855168\n",
            " 106.95334808 203.82541275 184.6017731  140.67599413 227.21154898\n",
            " 238.76424121 139.63795814 116.89418795 121.22405108 154.26498505\n",
            " 118.7308793  152.10526489 135.0825947  181.49221458 162.08792386\n",
            " 130.99046475 104.6455772  143.30016602 186.97668596 111.07650873\n",
            " 186.01582853 109.07651279 140.58195433 189.98559064 209.08332431]\n",
            "[129.45154516 128.16875884 132.68505461 102.68545038 191.45602346\n",
            " 146.01216356 105.57384955 105.81918314 227.3768933  106.51134972\n",
            " 183.66501194 166.48621254 107.81105031 105.516513   170.34293136\n",
            " 229.55719754 117.01955037 134.09963195 122.96601811 151.83262524\n",
            " 142.18478916 129.32316781 150.52383013 182.6525446  107.6373141\n",
            " 165.92144352 129.73189885 238.60492484 176.05600515 107.95591578\n",
            " 111.90908279 206.94692642 132.67928137 168.89440459 186.76255369\n",
            " 173.03817771 103.32249098 157.14762151 174.98527663 111.38855168\n",
            " 106.95334808 203.82541275 184.6017731  140.67599413 227.21154898\n",
            " 238.76424121 139.63795814 116.89418795 121.22405108 154.26498505\n",
            " 118.7308793  152.10526489 135.0825947  181.49221458 162.08792386\n",
            " 130.99046475 104.6455772  143.30016602 186.97668596 111.07650873\n",
            " 186.01582853 109.07651279 140.58195433 189.98559064 209.08332431\n",
            " 182.37703215]\n",
            "[129.45154516 128.16875884 132.68505461 102.68545038 191.45602346\n",
            " 146.01216356 105.57384955 105.81918314 227.3768933  106.51134972\n",
            " 183.66501194 166.48621254 107.81105031 105.516513   170.34293136\n",
            " 229.55719754 117.01955037 134.09963195 122.96601811 151.83262524\n",
            " 142.18478916 129.32316781 150.52383013 182.6525446  107.6373141\n",
            " 165.92144352 129.73189885 238.60492484 176.05600515 107.95591578\n",
            " 111.90908279 206.94692642 132.67928137 168.89440459 186.76255369\n",
            " 173.03817771 103.32249098 157.14762151 174.98527663 111.38855168\n",
            " 106.95334808 203.82541275 184.6017731  140.67599413 227.21154898\n",
            " 238.76424121 139.63795814 116.89418795 121.22405108 154.26498505\n",
            " 118.7308793  152.10526489 135.0825947  181.49221458 162.08792386\n",
            " 130.99046475 104.6455772  143.30016602 186.97668596 111.07650873\n",
            " 186.01582853 109.07651279 140.58195433 189.98559064 209.08332431\n",
            " 182.37703215 211.75976342]\n",
            "[129.45154516 128.16875884 132.68505461 102.68545038 191.45602346\n",
            " 146.01216356 105.57384955 105.81918314 227.3768933  106.51134972\n",
            " 183.66501194 166.48621254 107.81105031 105.516513   170.34293136\n",
            " 229.55719754 117.01955037 134.09963195 122.96601811 151.83262524\n",
            " 142.18478916 129.32316781 150.52383013 182.6525446  107.6373141\n",
            " 165.92144352 129.73189885 238.60492484 176.05600515 107.95591578\n",
            " 111.90908279 206.94692642 132.67928137 168.89440459 186.76255369\n",
            " 173.03817771 103.32249098 157.14762151 174.98527663 111.38855168\n",
            " 106.95334808 203.82541275 184.6017731  140.67599413 227.21154898\n",
            " 238.76424121 139.63795814 116.89418795 121.22405108 154.26498505\n",
            " 118.7308793  152.10526489 135.0825947  181.49221458 162.08792386\n",
            " 130.99046475 104.6455772  143.30016602 186.97668596 111.07650873\n",
            " 186.01582853 109.07651279 140.58195433 189.98559064 209.08332431\n",
            " 182.37703215 211.75976342 109.25447089]\n",
            "[129.45154516 128.16875884 132.68505461 102.68545038 191.45602346\n",
            " 146.01216356 105.57384955 105.81918314 227.3768933  106.51134972\n",
            " 183.66501194 166.48621254 107.81105031 105.516513   170.34293136\n",
            " 229.55719754 117.01955037 134.09963195 122.96601811 151.83262524\n",
            " 142.18478916 129.32316781 150.52383013 182.6525446  107.6373141\n",
            " 165.92144352 129.73189885 238.60492484 176.05600515 107.95591578\n",
            " 111.90908279 206.94692642 132.67928137 168.89440459 186.76255369\n",
            " 173.03817771 103.32249098 157.14762151 174.98527663 111.38855168\n",
            " 106.95334808 203.82541275 184.6017731  140.67599413 227.21154898\n",
            " 238.76424121 139.63795814 116.89418795 121.22405108 154.26498505\n",
            " 118.7308793  152.10526489 135.0825947  181.49221458 162.08792386\n",
            " 130.99046475 104.6455772  143.30016602 186.97668596 111.07650873\n",
            " 186.01582853 109.07651279 140.58195433 189.98559064 209.08332431\n",
            " 182.37703215 211.75976342 109.25447089 126.11214174]\n",
            "[129.45154516 128.16875884 132.68505461 102.68545038 191.45602346\n",
            " 146.01216356 105.57384955 105.81918314 227.3768933  106.51134972\n",
            " 183.66501194 166.48621254 107.81105031 105.516513   170.34293136\n",
            " 229.55719754 117.01955037 134.09963195 122.96601811 151.83262524\n",
            " 142.18478916 129.32316781 150.52383013 182.6525446  107.6373141\n",
            " 165.92144352 129.73189885 238.60492484 176.05600515 107.95591578\n",
            " 111.90908279 206.94692642 132.67928137 168.89440459 186.76255369\n",
            " 173.03817771 103.32249098 157.14762151 174.98527663 111.38855168\n",
            " 106.95334808 203.82541275 184.6017731  140.67599413 227.21154898\n",
            " 238.76424121 139.63795814 116.89418795 121.22405108 154.26498505\n",
            " 118.7308793  152.10526489 135.0825947  181.49221458 162.08792386\n",
            " 130.99046475 104.6455772  143.30016602 186.97668596 111.07650873\n",
            " 186.01582853 109.07651279 140.58195433 189.98559064 209.08332431\n",
            " 182.37703215 211.75976342 109.25447089 126.11214174 185.41783509]\n",
            "[129.45154516 128.16875884 132.68505461 102.68545038 191.45602346\n",
            " 146.01216356 105.57384955 105.81918314 227.3768933  106.51134972\n",
            " 183.66501194 166.48621254 107.81105031 105.516513   170.34293136\n",
            " 229.55719754 117.01955037 134.09963195 122.96601811 151.83262524\n",
            " 142.18478916 129.32316781 150.52383013 182.6525446  107.6373141\n",
            " 165.92144352 129.73189885 238.60492484 176.05600515 107.95591578\n",
            " 111.90908279 206.94692642 132.67928137 168.89440459 186.76255369\n",
            " 173.03817771 103.32249098 157.14762151 174.98527663 111.38855168\n",
            " 106.95334808 203.82541275 184.6017731  140.67599413 227.21154898\n",
            " 238.76424121 139.63795814 116.89418795 121.22405108 154.26498505\n",
            " 118.7308793  152.10526489 135.0825947  181.49221458 162.08792386\n",
            " 130.99046475 104.6455772  143.30016602 186.97668596 111.07650873\n",
            " 186.01582853 109.07651279 140.58195433 189.98559064 209.08332431\n",
            " 182.37703215 211.75976342 109.25447089 126.11214174 185.41783509\n",
            " 122.08781404]\n",
            "[129.45154516 128.16875884 132.68505461 102.68545038 191.45602346\n",
            " 146.01216356 105.57384955 105.81918314 227.3768933  106.51134972\n",
            " 183.66501194 166.48621254 107.81105031 105.516513   170.34293136\n",
            " 229.55719754 117.01955037 134.09963195 122.96601811 151.83262524\n",
            " 142.18478916 129.32316781 150.52383013 182.6525446  107.6373141\n",
            " 165.92144352 129.73189885 238.60492484 176.05600515 107.95591578\n",
            " 111.90908279 206.94692642 132.67928137 168.89440459 186.76255369\n",
            " 173.03817771 103.32249098 157.14762151 174.98527663 111.38855168\n",
            " 106.95334808 203.82541275 184.6017731  140.67599413 227.21154898\n",
            " 238.76424121 139.63795814 116.89418795 121.22405108 154.26498505\n",
            " 118.7308793  152.10526489 135.0825947  181.49221458 162.08792386\n",
            " 130.99046475 104.6455772  143.30016602 186.97668596 111.07650873\n",
            " 186.01582853 109.07651279 140.58195433 189.98559064 209.08332431\n",
            " 182.37703215 211.75976342 109.25447089 126.11214174 185.41783509\n",
            " 122.08781404 120.14204983]\n",
            "[129.45154516 128.16875884 132.68505461 102.68545038 191.45602346\n",
            " 146.01216356 105.57384955 105.81918314 227.3768933  106.51134972\n",
            " 183.66501194 166.48621254 107.81105031 105.516513   170.34293136\n",
            " 229.55719754 117.01955037 134.09963195 122.96601811 151.83262524\n",
            " 142.18478916 129.32316781 150.52383013 182.6525446  107.6373141\n",
            " 165.92144352 129.73189885 238.60492484 176.05600515 107.95591578\n",
            " 111.90908279 206.94692642 132.67928137 168.89440459 186.76255369\n",
            " 173.03817771 103.32249098 157.14762151 174.98527663 111.38855168\n",
            " 106.95334808 203.82541275 184.6017731  140.67599413 227.21154898\n",
            " 238.76424121 139.63795814 116.89418795 121.22405108 154.26498505\n",
            " 118.7308793  152.10526489 135.0825947  181.49221458 162.08792386\n",
            " 130.99046475 104.6455772  143.30016602 186.97668596 111.07650873\n",
            " 186.01582853 109.07651279 140.58195433 189.98559064 209.08332431\n",
            " 182.37703215 211.75976342 109.25447089 126.11214174 185.41783509\n",
            " 122.08781404 120.14204983 177.30921379]\n",
            "[129.45154516 128.16875884 132.68505461 102.68545038 191.45602346\n",
            " 146.01216356 105.57384955 105.81918314 227.3768933  106.51134972\n",
            " 183.66501194 166.48621254 107.81105031 105.516513   170.34293136\n",
            " 229.55719754 117.01955037 134.09963195 122.96601811 151.83262524\n",
            " 142.18478916 129.32316781 150.52383013 182.6525446  107.6373141\n",
            " 165.92144352 129.73189885 238.60492484 176.05600515 107.95591578\n",
            " 111.90908279 206.94692642 132.67928137 168.89440459 186.76255369\n",
            " 173.03817771 103.32249098 157.14762151 174.98527663 111.38855168\n",
            " 106.95334808 203.82541275 184.6017731  140.67599413 227.21154898\n",
            " 238.76424121 139.63795814 116.89418795 121.22405108 154.26498505\n",
            " 118.7308793  152.10526489 135.0825947  181.49221458 162.08792386\n",
            " 130.99046475 104.6455772  143.30016602 186.97668596 111.07650873\n",
            " 186.01582853 109.07651279 140.58195433 189.98559064 209.08332431\n",
            " 182.37703215 211.75976342 109.25447089 126.11214174 185.41783509\n",
            " 122.08781404 120.14204983 177.30921379 167.97620943]\n",
            "[129.45154516 128.16875884 132.68505461 102.68545038 191.45602346\n",
            " 146.01216356 105.57384955 105.81918314 227.3768933  106.51134972\n",
            " 183.66501194 166.48621254 107.81105031 105.516513   170.34293136\n",
            " 229.55719754 117.01955037 134.09963195 122.96601811 151.83262524\n",
            " 142.18478916 129.32316781 150.52383013 182.6525446  107.6373141\n",
            " 165.92144352 129.73189885 238.60492484 176.05600515 107.95591578\n",
            " 111.90908279 206.94692642 132.67928137 168.89440459 186.76255369\n",
            " 173.03817771 103.32249098 157.14762151 174.98527663 111.38855168\n",
            " 106.95334808 203.82541275 184.6017731  140.67599413 227.21154898\n",
            " 238.76424121 139.63795814 116.89418795 121.22405108 154.26498505\n",
            " 118.7308793  152.10526489 135.0825947  181.49221458 162.08792386\n",
            " 130.99046475 104.6455772  143.30016602 186.97668596 111.07650873\n",
            " 186.01582853 109.07651279 140.58195433 189.98559064 209.08332431\n",
            " 182.37703215 211.75976342 109.25447089 126.11214174 185.41783509\n",
            " 122.08781404 120.14204983 177.30921379 167.97620943 207.27821548]\n",
            "[129.45154516 128.16875884 132.68505461 102.68545038 191.45602346\n",
            " 146.01216356 105.57384955 105.81918314 227.3768933  106.51134972\n",
            " 183.66501194 166.48621254 107.81105031 105.516513   170.34293136\n",
            " 229.55719754 117.01955037 134.09963195 122.96601811 151.83262524\n",
            " 142.18478916 129.32316781 150.52383013 182.6525446  107.6373141\n",
            " 165.92144352 129.73189885 238.60492484 176.05600515 107.95591578\n",
            " 111.90908279 206.94692642 132.67928137 168.89440459 186.76255369\n",
            " 173.03817771 103.32249098 157.14762151 174.98527663 111.38855168\n",
            " 106.95334808 203.82541275 184.6017731  140.67599413 227.21154898\n",
            " 238.76424121 139.63795814 116.89418795 121.22405108 154.26498505\n",
            " 118.7308793  152.10526489 135.0825947  181.49221458 162.08792386\n",
            " 130.99046475 104.6455772  143.30016602 186.97668596 111.07650873\n",
            " 186.01582853 109.07651279 140.58195433 189.98559064 209.08332431\n",
            " 182.37703215 211.75976342 109.25447089 126.11214174 185.41783509\n",
            " 122.08781404 120.14204983 177.30921379 167.97620943 207.27821548\n",
            " 144.46279092]\n",
            "[129.45154516 128.16875884 132.68505461 102.68545038 191.45602346\n",
            " 146.01216356 105.57384955 105.81918314 227.3768933  106.51134972\n",
            " 183.66501194 166.48621254 107.81105031 105.516513   170.34293136\n",
            " 229.55719754 117.01955037 134.09963195 122.96601811 151.83262524\n",
            " 142.18478916 129.32316781 150.52383013 182.6525446  107.6373141\n",
            " 165.92144352 129.73189885 238.60492484 176.05600515 107.95591578\n",
            " 111.90908279 206.94692642 132.67928137 168.89440459 186.76255369\n",
            " 173.03817771 103.32249098 157.14762151 174.98527663 111.38855168\n",
            " 106.95334808 203.82541275 184.6017731  140.67599413 227.21154898\n",
            " 238.76424121 139.63795814 116.89418795 121.22405108 154.26498505\n",
            " 118.7308793  152.10526489 135.0825947  181.49221458 162.08792386\n",
            " 130.99046475 104.6455772  143.30016602 186.97668596 111.07650873\n",
            " 186.01582853 109.07651279 140.58195433 189.98559064 209.08332431\n",
            " 182.37703215 211.75976342 109.25447089 126.11214174 185.41783509\n",
            " 122.08781404 120.14204983 177.30921379 167.97620943 207.27821548\n",
            " 144.46279092 170.44794076]\n",
            "[129.45154516 128.16875884 132.68505461 102.68545038 191.45602346\n",
            " 146.01216356 105.57384955 105.81918314 227.3768933  106.51134972\n",
            " 183.66501194 166.48621254 107.81105031 105.516513   170.34293136\n",
            " 229.55719754 117.01955037 134.09963195 122.96601811 151.83262524\n",
            " 142.18478916 129.32316781 150.52383013 182.6525446  107.6373141\n",
            " 165.92144352 129.73189885 238.60492484 176.05600515 107.95591578\n",
            " 111.90908279 206.94692642 132.67928137 168.89440459 186.76255369\n",
            " 173.03817771 103.32249098 157.14762151 174.98527663 111.38855168\n",
            " 106.95334808 203.82541275 184.6017731  140.67599413 227.21154898\n",
            " 238.76424121 139.63795814 116.89418795 121.22405108 154.26498505\n",
            " 118.7308793  152.10526489 135.0825947  181.49221458 162.08792386\n",
            " 130.99046475 104.6455772  143.30016602 186.97668596 111.07650873\n",
            " 186.01582853 109.07651279 140.58195433 189.98559064 209.08332431\n",
            " 182.37703215 211.75976342 109.25447089 126.11214174 185.41783509\n",
            " 122.08781404 120.14204983 177.30921379 167.97620943 207.27821548\n",
            " 144.46279092 170.44794076 171.66125862]\n",
            "[129.45154516 128.16875884 132.68505461 102.68545038 191.45602346\n",
            " 146.01216356 105.57384955 105.81918314 227.3768933  106.51134972\n",
            " 183.66501194 166.48621254 107.81105031 105.516513   170.34293136\n",
            " 229.55719754 117.01955037 134.09963195 122.96601811 151.83262524\n",
            " 142.18478916 129.32316781 150.52383013 182.6525446  107.6373141\n",
            " 165.92144352 129.73189885 238.60492484 176.05600515 107.95591578\n",
            " 111.90908279 206.94692642 132.67928137 168.89440459 186.76255369\n",
            " 173.03817771 103.32249098 157.14762151 174.98527663 111.38855168\n",
            " 106.95334808 203.82541275 184.6017731  140.67599413 227.21154898\n",
            " 238.76424121 139.63795814 116.89418795 121.22405108 154.26498505\n",
            " 118.7308793  152.10526489 135.0825947  181.49221458 162.08792386\n",
            " 130.99046475 104.6455772  143.30016602 186.97668596 111.07650873\n",
            " 186.01582853 109.07651279 140.58195433 189.98559064 209.08332431\n",
            " 182.37703215 211.75976342 109.25447089 126.11214174 185.41783509\n",
            " 122.08781404 120.14204983 177.30921379 167.97620943 207.27821548\n",
            " 144.46279092 170.44794076 171.66125862 125.44074955]\n",
            "[129.45154516 128.16875884 132.68505461 102.68545038 191.45602346\n",
            " 146.01216356 105.57384955 105.81918314 227.3768933  106.51134972\n",
            " 183.66501194 166.48621254 107.81105031 105.516513   170.34293136\n",
            " 229.55719754 117.01955037 134.09963195 122.96601811 151.83262524\n",
            " 142.18478916 129.32316781 150.52383013 182.6525446  107.6373141\n",
            " 165.92144352 129.73189885 238.60492484 176.05600515 107.95591578\n",
            " 111.90908279 206.94692642 132.67928137 168.89440459 186.76255369\n",
            " 173.03817771 103.32249098 157.14762151 174.98527663 111.38855168\n",
            " 106.95334808 203.82541275 184.6017731  140.67599413 227.21154898\n",
            " 238.76424121 139.63795814 116.89418795 121.22405108 154.26498505\n",
            " 118.7308793  152.10526489 135.0825947  181.49221458 162.08792386\n",
            " 130.99046475 104.6455772  143.30016602 186.97668596 111.07650873\n",
            " 186.01582853 109.07651279 140.58195433 189.98559064 209.08332431\n",
            " 182.37703215 211.75976342 109.25447089 126.11214174 185.41783509\n",
            " 122.08781404 120.14204983 177.30921379 167.97620943 207.27821548\n",
            " 144.46279092 170.44794076 171.66125862 125.44074955 153.64483693]\n",
            "[129.45154516 128.16875884 132.68505461 102.68545038 191.45602346\n",
            " 146.01216356 105.57384955 105.81918314 227.3768933  106.51134972\n",
            " 183.66501194 166.48621254 107.81105031 105.516513   170.34293136\n",
            " 229.55719754 117.01955037 134.09963195 122.96601811 151.83262524\n",
            " 142.18478916 129.32316781 150.52383013 182.6525446  107.6373141\n",
            " 165.92144352 129.73189885 238.60492484 176.05600515 107.95591578\n",
            " 111.90908279 206.94692642 132.67928137 168.89440459 186.76255369\n",
            " 173.03817771 103.32249098 157.14762151 174.98527663 111.38855168\n",
            " 106.95334808 203.82541275 184.6017731  140.67599413 227.21154898\n",
            " 238.76424121 139.63795814 116.89418795 121.22405108 154.26498505\n",
            " 118.7308793  152.10526489 135.0825947  181.49221458 162.08792386\n",
            " 130.99046475 104.6455772  143.30016602 186.97668596 111.07650873\n",
            " 186.01582853 109.07651279 140.58195433 189.98559064 209.08332431\n",
            " 182.37703215 211.75976342 109.25447089 126.11214174 185.41783509\n",
            " 122.08781404 120.14204983 177.30921379 167.97620943 207.27821548\n",
            " 144.46279092 170.44794076 171.66125862 125.44074955 153.64483693\n",
            " 116.8116228 ]\n",
            "[129.45154516 128.16875884 132.68505461 102.68545038 191.45602346\n",
            " 146.01216356 105.57384955 105.81918314 227.3768933  106.51134972\n",
            " 183.66501194 166.48621254 107.81105031 105.516513   170.34293136\n",
            " 229.55719754 117.01955037 134.09963195 122.96601811 151.83262524\n",
            " 142.18478916 129.32316781 150.52383013 182.6525446  107.6373141\n",
            " 165.92144352 129.73189885 238.60492484 176.05600515 107.95591578\n",
            " 111.90908279 206.94692642 132.67928137 168.89440459 186.76255369\n",
            " 173.03817771 103.32249098 157.14762151 174.98527663 111.38855168\n",
            " 106.95334808 203.82541275 184.6017731  140.67599413 227.21154898\n",
            " 238.76424121 139.63795814 116.89418795 121.22405108 154.26498505\n",
            " 118.7308793  152.10526489 135.0825947  181.49221458 162.08792386\n",
            " 130.99046475 104.6455772  143.30016602 186.97668596 111.07650873\n",
            " 186.01582853 109.07651279 140.58195433 189.98559064 209.08332431\n",
            " 182.37703215 211.75976342 109.25447089 126.11214174 185.41783509\n",
            " 122.08781404 120.14204983 177.30921379 167.97620943 207.27821548\n",
            " 144.46279092 170.44794076 171.66125862 125.44074955 153.64483693\n",
            " 116.8116228  165.39358352]\n",
            "[129.45154516 128.16875884 132.68505461 102.68545038 191.45602346\n",
            " 146.01216356 105.57384955 105.81918314 227.3768933  106.51134972\n",
            " 183.66501194 166.48621254 107.81105031 105.516513   170.34293136\n",
            " 229.55719754 117.01955037 134.09963195 122.96601811 151.83262524\n",
            " 142.18478916 129.32316781 150.52383013 182.6525446  107.6373141\n",
            " 165.92144352 129.73189885 238.60492484 176.05600515 107.95591578\n",
            " 111.90908279 206.94692642 132.67928137 168.89440459 186.76255369\n",
            " 173.03817771 103.32249098 157.14762151 174.98527663 111.38855168\n",
            " 106.95334808 203.82541275 184.6017731  140.67599413 227.21154898\n",
            " 238.76424121 139.63795814 116.89418795 121.22405108 154.26498505\n",
            " 118.7308793  152.10526489 135.0825947  181.49221458 162.08792386\n",
            " 130.99046475 104.6455772  143.30016602 186.97668596 111.07650873\n",
            " 186.01582853 109.07651279 140.58195433 189.98559064 209.08332431\n",
            " 182.37703215 211.75976342 109.25447089 126.11214174 185.41783509\n",
            " 122.08781404 120.14204983 177.30921379 167.97620943 207.27821548\n",
            " 144.46279092 170.44794076 171.66125862 125.44074955 153.64483693\n",
            " 116.8116228  165.39358352 102.4702801 ]\n",
            "[129.45154516 128.16875884 132.68505461 102.68545038 191.45602346\n",
            " 146.01216356 105.57384955 105.81918314 227.3768933  106.51134972\n",
            " 183.66501194 166.48621254 107.81105031 105.516513   170.34293136\n",
            " 229.55719754 117.01955037 134.09963195 122.96601811 151.83262524\n",
            " 142.18478916 129.32316781 150.52383013 182.6525446  107.6373141\n",
            " 165.92144352 129.73189885 238.60492484 176.05600515 107.95591578\n",
            " 111.90908279 206.94692642 132.67928137 168.89440459 186.76255369\n",
            " 173.03817771 103.32249098 157.14762151 174.98527663 111.38855168\n",
            " 106.95334808 203.82541275 184.6017731  140.67599413 227.21154898\n",
            " 238.76424121 139.63795814 116.89418795 121.22405108 154.26498505\n",
            " 118.7308793  152.10526489 135.0825947  181.49221458 162.08792386\n",
            " 130.99046475 104.6455772  143.30016602 186.97668596 111.07650873\n",
            " 186.01582853 109.07651279 140.58195433 189.98559064 209.08332431\n",
            " 182.37703215 211.75976342 109.25447089 126.11214174 185.41783509\n",
            " 122.08781404 120.14204983 177.30921379 167.97620943 207.27821548\n",
            " 144.46279092 170.44794076 171.66125862 125.44074955 153.64483693\n",
            " 116.8116228  165.39358352 102.4702801  220.5423222 ]\n",
            "[129.45154516 128.16875884 132.68505461 102.68545038 191.45602346\n",
            " 146.01216356 105.57384955 105.81918314 227.3768933  106.51134972\n",
            " 183.66501194 166.48621254 107.81105031 105.516513   170.34293136\n",
            " 229.55719754 117.01955037 134.09963195 122.96601811 151.83262524\n",
            " 142.18478916 129.32316781 150.52383013 182.6525446  107.6373141\n",
            " 165.92144352 129.73189885 238.60492484 176.05600515 107.95591578\n",
            " 111.90908279 206.94692642 132.67928137 168.89440459 186.76255369\n",
            " 173.03817771 103.32249098 157.14762151 174.98527663 111.38855168\n",
            " 106.95334808 203.82541275 184.6017731  140.67599413 227.21154898\n",
            " 238.76424121 139.63795814 116.89418795 121.22405108 154.26498505\n",
            " 118.7308793  152.10526489 135.0825947  181.49221458 162.08792386\n",
            " 130.99046475 104.6455772  143.30016602 186.97668596 111.07650873\n",
            " 186.01582853 109.07651279 140.58195433 189.98559064 209.08332431\n",
            " 182.37703215 211.75976342 109.25447089 126.11214174 185.41783509\n",
            " 122.08781404 120.14204983 177.30921379 167.97620943 207.27821548\n",
            " 144.46279092 170.44794076 171.66125862 125.44074955 153.64483693\n",
            " 116.8116228  165.39358352 102.4702801  220.5423222  231.53563846]\n",
            "[129.45154516 128.16875884 132.68505461 102.68545038 191.45602346\n",
            " 146.01216356 105.57384955 105.81918314 227.3768933  106.51134972\n",
            " 183.66501194 166.48621254 107.81105031 105.516513   170.34293136\n",
            " 229.55719754 117.01955037 134.09963195 122.96601811 151.83262524\n",
            " 142.18478916 129.32316781 150.52383013 182.6525446  107.6373141\n",
            " 165.92144352 129.73189885 238.60492484 176.05600515 107.95591578\n",
            " 111.90908279 206.94692642 132.67928137 168.89440459 186.76255369\n",
            " 173.03817771 103.32249098 157.14762151 174.98527663 111.38855168\n",
            " 106.95334808 203.82541275 184.6017731  140.67599413 227.21154898\n",
            " 238.76424121 139.63795814 116.89418795 121.22405108 154.26498505\n",
            " 118.7308793  152.10526489 135.0825947  181.49221458 162.08792386\n",
            " 130.99046475 104.6455772  143.30016602 186.97668596 111.07650873\n",
            " 186.01582853 109.07651279 140.58195433 189.98559064 209.08332431\n",
            " 182.37703215 211.75976342 109.25447089 126.11214174 185.41783509\n",
            " 122.08781404 120.14204983 177.30921379 167.97620943 207.27821548\n",
            " 144.46279092 170.44794076 171.66125862 125.44074955 153.64483693\n",
            " 116.8116228  165.39358352 102.4702801  220.5423222  231.53563846\n",
            " 102.52076889]\n",
            "[129.45154516 128.16875884 132.68505461 102.68545038 191.45602346\n",
            " 146.01216356 105.57384955 105.81918314 227.3768933  106.51134972\n",
            " 183.66501194 166.48621254 107.81105031 105.516513   170.34293136\n",
            " 229.55719754 117.01955037 134.09963195 122.96601811 151.83262524\n",
            " 142.18478916 129.32316781 150.52383013 182.6525446  107.6373141\n",
            " 165.92144352 129.73189885 238.60492484 176.05600515 107.95591578\n",
            " 111.90908279 206.94692642 132.67928137 168.89440459 186.76255369\n",
            " 173.03817771 103.32249098 157.14762151 174.98527663 111.38855168\n",
            " 106.95334808 203.82541275 184.6017731  140.67599413 227.21154898\n",
            " 238.76424121 139.63795814 116.89418795 121.22405108 154.26498505\n",
            " 118.7308793  152.10526489 135.0825947  181.49221458 162.08792386\n",
            " 130.99046475 104.6455772  143.30016602 186.97668596 111.07650873\n",
            " 186.01582853 109.07651279 140.58195433 189.98559064 209.08332431\n",
            " 182.37703215 211.75976342 109.25447089 126.11214174 185.41783509\n",
            " 122.08781404 120.14204983 177.30921379 167.97620943 207.27821548\n",
            " 144.46279092 170.44794076 171.66125862 125.44074955 153.64483693\n",
            " 116.8116228  165.39358352 102.4702801  220.5423222  231.53563846\n",
            " 102.52076889 169.73974225]\n",
            "[129.45154516 128.16875884 132.68505461 102.68545038 191.45602346\n",
            " 146.01216356 105.57384955 105.81918314 227.3768933  106.51134972\n",
            " 183.66501194 166.48621254 107.81105031 105.516513   170.34293136\n",
            " 229.55719754 117.01955037 134.09963195 122.96601811 151.83262524\n",
            " 142.18478916 129.32316781 150.52383013 182.6525446  107.6373141\n",
            " 165.92144352 129.73189885 238.60492484 176.05600515 107.95591578\n",
            " 111.90908279 206.94692642 132.67928137 168.89440459 186.76255369\n",
            " 173.03817771 103.32249098 157.14762151 174.98527663 111.38855168\n",
            " 106.95334808 203.82541275 184.6017731  140.67599413 227.21154898\n",
            " 238.76424121 139.63795814 116.89418795 121.22405108 154.26498505\n",
            " 118.7308793  152.10526489 135.0825947  181.49221458 162.08792386\n",
            " 130.99046475 104.6455772  143.30016602 186.97668596 111.07650873\n",
            " 186.01582853 109.07651279 140.58195433 189.98559064 209.08332431\n",
            " 182.37703215 211.75976342 109.25447089 126.11214174 185.41783509\n",
            " 122.08781404 120.14204983 177.30921379 167.97620943 207.27821548\n",
            " 144.46279092 170.44794076 171.66125862 125.44074955 153.64483693\n",
            " 116.8116228  165.39358352 102.4702801  220.5423222  231.53563846\n",
            " 102.52076889 169.73974225 103.3710012 ]\n",
            "[129.45154516 128.16875884 132.68505461 102.68545038 191.45602346\n",
            " 146.01216356 105.57384955 105.81918314 227.3768933  106.51134972\n",
            " 183.66501194 166.48621254 107.81105031 105.516513   170.34293136\n",
            " 229.55719754 117.01955037 134.09963195 122.96601811 151.83262524\n",
            " 142.18478916 129.32316781 150.52383013 182.6525446  107.6373141\n",
            " 165.92144352 129.73189885 238.60492484 176.05600515 107.95591578\n",
            " 111.90908279 206.94692642 132.67928137 168.89440459 186.76255369\n",
            " 173.03817771 103.32249098 157.14762151 174.98527663 111.38855168\n",
            " 106.95334808 203.82541275 184.6017731  140.67599413 227.21154898\n",
            " 238.76424121 139.63795814 116.89418795 121.22405108 154.26498505\n",
            " 118.7308793  152.10526489 135.0825947  181.49221458 162.08792386\n",
            " 130.99046475 104.6455772  143.30016602 186.97668596 111.07650873\n",
            " 186.01582853 109.07651279 140.58195433 189.98559064 209.08332431\n",
            " 182.37703215 211.75976342 109.25447089 126.11214174 185.41783509\n",
            " 122.08781404 120.14204983 177.30921379 167.97620943 207.27821548\n",
            " 144.46279092 170.44794076 171.66125862 125.44074955 153.64483693\n",
            " 116.8116228  165.39358352 102.4702801  220.5423222  231.53563846\n",
            " 102.52076889 169.73974225 103.3710012  139.77102237]\n",
            "[129.45154516 128.16875884 132.68505461 102.68545038 191.45602346\n",
            " 146.01216356 105.57384955 105.81918314 227.3768933  106.51134972\n",
            " 183.66501194 166.48621254 107.81105031 105.516513   170.34293136\n",
            " 229.55719754 117.01955037 134.09963195 122.96601811 151.83262524\n",
            " 142.18478916 129.32316781 150.52383013 182.6525446  107.6373141\n",
            " 165.92144352 129.73189885 238.60492484 176.05600515 107.95591578\n",
            " 111.90908279 206.94692642 132.67928137 168.89440459 186.76255369\n",
            " 173.03817771 103.32249098 157.14762151 174.98527663 111.38855168\n",
            " 106.95334808 203.82541275 184.6017731  140.67599413 227.21154898\n",
            " 238.76424121 139.63795814 116.89418795 121.22405108 154.26498505\n",
            " 118.7308793  152.10526489 135.0825947  181.49221458 162.08792386\n",
            " 130.99046475 104.6455772  143.30016602 186.97668596 111.07650873\n",
            " 186.01582853 109.07651279 140.58195433 189.98559064 209.08332431\n",
            " 182.37703215 211.75976342 109.25447089 126.11214174 185.41783509\n",
            " 122.08781404 120.14204983 177.30921379 167.97620943 207.27821548\n",
            " 144.46279092 170.44794076 171.66125862 125.44074955 153.64483693\n",
            " 116.8116228  165.39358352 102.4702801  220.5423222  231.53563846\n",
            " 102.52076889 169.73974225 103.3710012  139.77102237 196.09663104]\n",
            "[129.45154516 128.16875884 132.68505461 102.68545038 191.45602346\n",
            " 146.01216356 105.57384955 105.81918314 227.3768933  106.51134972\n",
            " 183.66501194 166.48621254 107.81105031 105.516513   170.34293136\n",
            " 229.55719754 117.01955037 134.09963195 122.96601811 151.83262524\n",
            " 142.18478916 129.32316781 150.52383013 182.6525446  107.6373141\n",
            " 165.92144352 129.73189885 238.60492484 176.05600515 107.95591578\n",
            " 111.90908279 206.94692642 132.67928137 168.89440459 186.76255369\n",
            " 173.03817771 103.32249098 157.14762151 174.98527663 111.38855168\n",
            " 106.95334808 203.82541275 184.6017731  140.67599413 227.21154898\n",
            " 238.76424121 139.63795814 116.89418795 121.22405108 154.26498505\n",
            " 118.7308793  152.10526489 135.0825947  181.49221458 162.08792386\n",
            " 130.99046475 104.6455772  143.30016602 186.97668596 111.07650873\n",
            " 186.01582853 109.07651279 140.58195433 189.98559064 209.08332431\n",
            " 182.37703215 211.75976342 109.25447089 126.11214174 185.41783509\n",
            " 122.08781404 120.14204983 177.30921379 167.97620943 207.27821548\n",
            " 144.46279092 170.44794076 171.66125862 125.44074955 153.64483693\n",
            " 116.8116228  165.39358352 102.4702801  220.5423222  231.53563846\n",
            " 102.52076889 169.73974225 103.3710012  139.77102237 196.09663104\n",
            " 155.48774003]\n",
            "[129.45154516 128.16875884 132.68505461 102.68545038 191.45602346\n",
            " 146.01216356 105.57384955 105.81918314 227.3768933  106.51134972\n",
            " 183.66501194 166.48621254 107.81105031 105.516513   170.34293136\n",
            " 229.55719754 117.01955037 134.09963195 122.96601811 151.83262524\n",
            " 142.18478916 129.32316781 150.52383013 182.6525446  107.6373141\n",
            " 165.92144352 129.73189885 238.60492484 176.05600515 107.95591578\n",
            " 111.90908279 206.94692642 132.67928137 168.89440459 186.76255369\n",
            " 173.03817771 103.32249098 157.14762151 174.98527663 111.38855168\n",
            " 106.95334808 203.82541275 184.6017731  140.67599413 227.21154898\n",
            " 238.76424121 139.63795814 116.89418795 121.22405108 154.26498505\n",
            " 118.7308793  152.10526489 135.0825947  181.49221458 162.08792386\n",
            " 130.99046475 104.6455772  143.30016602 186.97668596 111.07650873\n",
            " 186.01582853 109.07651279 140.58195433 189.98559064 209.08332431\n",
            " 182.37703215 211.75976342 109.25447089 126.11214174 185.41783509\n",
            " 122.08781404 120.14204983 177.30921379 167.97620943 207.27821548\n",
            " 144.46279092 170.44794076 171.66125862 125.44074955 153.64483693\n",
            " 116.8116228  165.39358352 102.4702801  220.5423222  231.53563846\n",
            " 102.52076889 169.73974225 103.3710012  139.77102237 196.09663104\n",
            " 155.48774003 108.49143694]\n",
            "[129.45154516 128.16875884 132.68505461 102.68545038 191.45602346\n",
            " 146.01216356 105.57384955 105.81918314 227.3768933  106.51134972\n",
            " 183.66501194 166.48621254 107.81105031 105.516513   170.34293136\n",
            " 229.55719754 117.01955037 134.09963195 122.96601811 151.83262524\n",
            " 142.18478916 129.32316781 150.52383013 182.6525446  107.6373141\n",
            " 165.92144352 129.73189885 238.60492484 176.05600515 107.95591578\n",
            " 111.90908279 206.94692642 132.67928137 168.89440459 186.76255369\n",
            " 173.03817771 103.32249098 157.14762151 174.98527663 111.38855168\n",
            " 106.95334808 203.82541275 184.6017731  140.67599413 227.21154898\n",
            " 238.76424121 139.63795814 116.89418795 121.22405108 154.26498505\n",
            " 118.7308793  152.10526489 135.0825947  181.49221458 162.08792386\n",
            " 130.99046475 104.6455772  143.30016602 186.97668596 111.07650873\n",
            " 186.01582853 109.07651279 140.58195433 189.98559064 209.08332431\n",
            " 182.37703215 211.75976342 109.25447089 126.11214174 185.41783509\n",
            " 122.08781404 120.14204983 177.30921379 167.97620943 207.27821548\n",
            " 144.46279092 170.44794076 171.66125862 125.44074955 153.64483693\n",
            " 116.8116228  165.39358352 102.4702801  220.5423222  231.53563846\n",
            " 102.52076889 169.73974225 103.3710012  139.77102237 196.09663104\n",
            " 155.48774003 108.49143694 130.75190872]\n",
            "[129.45154516 128.16875884 132.68505461 102.68545038 191.45602346\n",
            " 146.01216356 105.57384955 105.81918314 227.3768933  106.51134972\n",
            " 183.66501194 166.48621254 107.81105031 105.516513   170.34293136\n",
            " 229.55719754 117.01955037 134.09963195 122.96601811 151.83262524\n",
            " 142.18478916 129.32316781 150.52383013 182.6525446  107.6373141\n",
            " 165.92144352 129.73189885 238.60492484 176.05600515 107.95591578\n",
            " 111.90908279 206.94692642 132.67928137 168.89440459 186.76255369\n",
            " 173.03817771 103.32249098 157.14762151 174.98527663 111.38855168\n",
            " 106.95334808 203.82541275 184.6017731  140.67599413 227.21154898\n",
            " 238.76424121 139.63795814 116.89418795 121.22405108 154.26498505\n",
            " 118.7308793  152.10526489 135.0825947  181.49221458 162.08792386\n",
            " 130.99046475 104.6455772  143.30016602 186.97668596 111.07650873\n",
            " 186.01582853 109.07651279 140.58195433 189.98559064 209.08332431\n",
            " 182.37703215 211.75976342 109.25447089 126.11214174 185.41783509\n",
            " 122.08781404 120.14204983 177.30921379 167.97620943 207.27821548\n",
            " 144.46279092 170.44794076 171.66125862 125.44074955 153.64483693\n",
            " 116.8116228  165.39358352 102.4702801  220.5423222  231.53563846\n",
            " 102.52076889 169.73974225 103.3710012  139.77102237 196.09663104\n",
            " 155.48774003 108.49143694 130.75190872 223.50484973]\n",
            "[129.45154516 128.16875884 132.68505461 102.68545038 191.45602346\n",
            " 146.01216356 105.57384955 105.81918314 227.3768933  106.51134972\n",
            " 183.66501194 166.48621254 107.81105031 105.516513   170.34293136\n",
            " 229.55719754 117.01955037 134.09963195 122.96601811 151.83262524\n",
            " 142.18478916 129.32316781 150.52383013 182.6525446  107.6373141\n",
            " 165.92144352 129.73189885 238.60492484 176.05600515 107.95591578\n",
            " 111.90908279 206.94692642 132.67928137 168.89440459 186.76255369\n",
            " 173.03817771 103.32249098 157.14762151 174.98527663 111.38855168\n",
            " 106.95334808 203.82541275 184.6017731  140.67599413 227.21154898\n",
            " 238.76424121 139.63795814 116.89418795 121.22405108 154.26498505\n",
            " 118.7308793  152.10526489 135.0825947  181.49221458 162.08792386\n",
            " 130.99046475 104.6455772  143.30016602 186.97668596 111.07650873\n",
            " 186.01582853 109.07651279 140.58195433 189.98559064 209.08332431\n",
            " 182.37703215 211.75976342 109.25447089 126.11214174 185.41783509\n",
            " 122.08781404 120.14204983 177.30921379 167.97620943 207.27821548\n",
            " 144.46279092 170.44794076 171.66125862 125.44074955 153.64483693\n",
            " 116.8116228  165.39358352 102.4702801  220.5423222  231.53563846\n",
            " 102.52076889 169.73974225 103.3710012  139.77102237 196.09663104\n",
            " 155.48774003 108.49143694 130.75190872 223.50484973 131.22764402]\n",
            "[129.45154516 128.16875884 132.68505461 102.68545038 191.45602346\n",
            " 146.01216356 105.57384955 105.81918314 227.3768933  106.51134972\n",
            " 183.66501194 166.48621254 107.81105031 105.516513   170.34293136\n",
            " 229.55719754 117.01955037 134.09963195 122.96601811 151.83262524\n",
            " 142.18478916 129.32316781 150.52383013 182.6525446  107.6373141\n",
            " 165.92144352 129.73189885 238.60492484 176.05600515 107.95591578\n",
            " 111.90908279 206.94692642 132.67928137 168.89440459 186.76255369\n",
            " 173.03817771 103.32249098 157.14762151 174.98527663 111.38855168\n",
            " 106.95334808 203.82541275 184.6017731  140.67599413 227.21154898\n",
            " 238.76424121 139.63795814 116.89418795 121.22405108 154.26498505\n",
            " 118.7308793  152.10526489 135.0825947  181.49221458 162.08792386\n",
            " 130.99046475 104.6455772  143.30016602 186.97668596 111.07650873\n",
            " 186.01582853 109.07651279 140.58195433 189.98559064 209.08332431\n",
            " 182.37703215 211.75976342 109.25447089 126.11214174 185.41783509\n",
            " 122.08781404 120.14204983 177.30921379 167.97620943 207.27821548\n",
            " 144.46279092 170.44794076 171.66125862 125.44074955 153.64483693\n",
            " 116.8116228  165.39358352 102.4702801  220.5423222  231.53563846\n",
            " 102.52076889 169.73974225 103.3710012  139.77102237 196.09663104\n",
            " 155.48774003 108.49143694 130.75190872 223.50484973 131.22764402\n",
            " 159.85068224]\n",
            "[129.45154516 128.16875884 132.68505461 102.68545038 191.45602346\n",
            " 146.01216356 105.57384955 105.81918314 227.3768933  106.51134972\n",
            " 183.66501194 166.48621254 107.81105031 105.516513   170.34293136\n",
            " 229.55719754 117.01955037 134.09963195 122.96601811 151.83262524\n",
            " 142.18478916 129.32316781 150.52383013 182.6525446  107.6373141\n",
            " 165.92144352 129.73189885 238.60492484 176.05600515 107.95591578\n",
            " 111.90908279 206.94692642 132.67928137 168.89440459 186.76255369\n",
            " 173.03817771 103.32249098 157.14762151 174.98527663 111.38855168\n",
            " 106.95334808 203.82541275 184.6017731  140.67599413 227.21154898\n",
            " 238.76424121 139.63795814 116.89418795 121.22405108 154.26498505\n",
            " 118.7308793  152.10526489 135.0825947  181.49221458 162.08792386\n",
            " 130.99046475 104.6455772  143.30016602 186.97668596 111.07650873\n",
            " 186.01582853 109.07651279 140.58195433 189.98559064 209.08332431\n",
            " 182.37703215 211.75976342 109.25447089 126.11214174 185.41783509\n",
            " 122.08781404 120.14204983 177.30921379 167.97620943 207.27821548\n",
            " 144.46279092 170.44794076 171.66125862 125.44074955 153.64483693\n",
            " 116.8116228  165.39358352 102.4702801  220.5423222  231.53563846\n",
            " 102.52076889 169.73974225 103.3710012  139.77102237 196.09663104\n",
            " 155.48774003 108.49143694 130.75190872 223.50484973 131.22764402\n",
            " 159.85068224 188.52392513]\n",
            "[129.45154516 128.16875884 132.68505461 102.68545038 191.45602346\n",
            " 146.01216356 105.57384955 105.81918314 227.3768933  106.51134972\n",
            " 183.66501194 166.48621254 107.81105031 105.516513   170.34293136\n",
            " 229.55719754 117.01955037 134.09963195 122.96601811 151.83262524\n",
            " 142.18478916 129.32316781 150.52383013 182.6525446  107.6373141\n",
            " 165.92144352 129.73189885 238.60492484 176.05600515 107.95591578\n",
            " 111.90908279 206.94692642 132.67928137 168.89440459 186.76255369\n",
            " 173.03817771 103.32249098 157.14762151 174.98527663 111.38855168\n",
            " 106.95334808 203.82541275 184.6017731  140.67599413 227.21154898\n",
            " 238.76424121 139.63795814 116.89418795 121.22405108 154.26498505\n",
            " 118.7308793  152.10526489 135.0825947  181.49221458 162.08792386\n",
            " 130.99046475 104.6455772  143.30016602 186.97668596 111.07650873\n",
            " 186.01582853 109.07651279 140.58195433 189.98559064 209.08332431\n",
            " 182.37703215 211.75976342 109.25447089 126.11214174 185.41783509\n",
            " 122.08781404 120.14204983 177.30921379 167.97620943 207.27821548\n",
            " 144.46279092 170.44794076 171.66125862 125.44074955 153.64483693\n",
            " 116.8116228  165.39358352 102.4702801  220.5423222  231.53563846\n",
            " 102.52076889 169.73974225 103.3710012  139.77102237 196.09663104\n",
            " 155.48774003 108.49143694 130.75190872 223.50484973 131.22764402\n",
            " 159.85068224 188.52392513 173.91453572]\n",
            "[129.45154516 128.16875884 132.68505461 102.68545038 191.45602346\n",
            " 146.01216356 105.57384955 105.81918314 227.3768933  106.51134972\n",
            " 183.66501194 166.48621254 107.81105031 105.516513   170.34293136\n",
            " 229.55719754 117.01955037 134.09963195 122.96601811 151.83262524\n",
            " 142.18478916 129.32316781 150.52383013 182.6525446  107.6373141\n",
            " 165.92144352 129.73189885 238.60492484 176.05600515 107.95591578\n",
            " 111.90908279 206.94692642 132.67928137 168.89440459 186.76255369\n",
            " 173.03817771 103.32249098 157.14762151 174.98527663 111.38855168\n",
            " 106.95334808 203.82541275 184.6017731  140.67599413 227.21154898\n",
            " 238.76424121 139.63795814 116.89418795 121.22405108 154.26498505\n",
            " 118.7308793  152.10526489 135.0825947  181.49221458 162.08792386\n",
            " 130.99046475 104.6455772  143.30016602 186.97668596 111.07650873\n",
            " 186.01582853 109.07651279 140.58195433 189.98559064 209.08332431\n",
            " 182.37703215 211.75976342 109.25447089 126.11214174 185.41783509\n",
            " 122.08781404 120.14204983 177.30921379 167.97620943 207.27821548\n",
            " 144.46279092 170.44794076 171.66125862 125.44074955 153.64483693\n",
            " 116.8116228  165.39358352 102.4702801  220.5423222  231.53563846\n",
            " 102.52076889 169.73974225 103.3710012  139.77102237 196.09663104\n",
            " 155.48774003 108.49143694 130.75190872 223.50484973 131.22764402\n",
            " 159.85068224 188.52392513 173.91453572 110.71925837]\n",
            "[129.45154516 128.16875884 132.68505461 102.68545038 191.45602346\n",
            " 146.01216356 105.57384955 105.81918314 227.3768933  106.51134972\n",
            " 183.66501194 166.48621254 107.81105031 105.516513   170.34293136\n",
            " 229.55719754 117.01955037 134.09963195 122.96601811 151.83262524\n",
            " 142.18478916 129.32316781 150.52383013 182.6525446  107.6373141\n",
            " 165.92144352 129.73189885 238.60492484 176.05600515 107.95591578\n",
            " 111.90908279 206.94692642 132.67928137 168.89440459 186.76255369\n",
            " 173.03817771 103.32249098 157.14762151 174.98527663 111.38855168\n",
            " 106.95334808 203.82541275 184.6017731  140.67599413 227.21154898\n",
            " 238.76424121 139.63795814 116.89418795 121.22405108 154.26498505\n",
            " 118.7308793  152.10526489 135.0825947  181.49221458 162.08792386\n",
            " 130.99046475 104.6455772  143.30016602 186.97668596 111.07650873\n",
            " 186.01582853 109.07651279 140.58195433 189.98559064 209.08332431\n",
            " 182.37703215 211.75976342 109.25447089 126.11214174 185.41783509\n",
            " 122.08781404 120.14204983 177.30921379 167.97620943 207.27821548\n",
            " 144.46279092 170.44794076 171.66125862 125.44074955 153.64483693\n",
            " 116.8116228  165.39358352 102.4702801  220.5423222  231.53563846\n",
            " 102.52076889 169.73974225 103.3710012  139.77102237 196.09663104\n",
            " 155.48774003 108.49143694 130.75190872 223.50484973 131.22764402\n",
            " 159.85068224 188.52392513 173.91453572 110.71925837 154.51107325]\n"
          ]
        }
      ]
    },
    {
      "cell_type": "markdown",
      "source": [
        "# Função np.column_stack\n",
        "(Une dois ou mais arrays, lado a lado, como colunas, em uma matriz)"
      ],
      "metadata": {
        "id": "akP1UWkvtPEm"
      }
    },
    {
      "cell_type": "code",
      "source": [
        "dados = np.column_stack([norma,coef_angulares])"
      ],
      "metadata": {
        "id": "D5bsBCAol4zz"
      },
      "execution_count": null,
      "outputs": []
    },
    {
      "cell_type": "code",
      "source": [
        "#temos 100 dados em 2 colunas\n",
        "dados.shape"
      ],
      "metadata": {
        "colab": {
          "base_uri": "https://localhost:8080/"
        },
        "id": "RT7vWrBJt6fr",
        "outputId": "337388e2-f8dc-45ef-ae2b-72139f46369d"
      },
      "execution_count": null,
      "outputs": [
        {
          "output_type": "execute_result",
          "data": {
            "text/plain": [
              "(100, 2)"
            ]
          },
          "metadata": {},
          "execution_count": 76
        }
      ]
    },
    {
      "cell_type": "markdown",
      "source": [
        "# Função savetxt\n",
        "(Salva um array em um arquivo de texto)"
      ],
      "metadata": {
        "id": "e1EsbpsAuE17"
      }
    },
    {
      "cell_type": "code",
      "source": [
        "#Para salvar: primeiro o nome do arquivo, segundo o que vc quer salvar, terceiro o delimitador a ser utilizado\n",
        "np.savetxt('dados.csv',dados,delimiter=',')\n",
        "#O arquivo fica no gerenciador de arquivos  (pastinha ao lado) Preciso fazer o download do arquivo na maquina!"
      ],
      "metadata": {
        "id": "35ZIOeGwt-Cq"
      },
      "execution_count": null,
      "outputs": []
    },
    {
      "cell_type": "code",
      "source": [
        "# O link do arquivo salvo está aqui: https://drive.google.com/file/d/1UtvKw6SNXohUY5GLNpAbvi6rrtpzKfMM/view?usp=share_link"
      ],
      "metadata": {
        "id": "snWVNMLruaqN"
      },
      "execution_count": null,
      "outputs": []
    },
    {
      "cell_type": "code",
      "source": [],
      "metadata": {
        "id": "ryZmEA0AvIJz"
      },
      "execution_count": null,
      "outputs": []
    }
  ]
}